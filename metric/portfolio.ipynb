{
 "cells": [
  {
   "cell_type": "code",
   "execution_count": null,
   "metadata": {},
   "outputs": [],
   "source": [
    "!pip install pandas_datareader\n",
    "!pip install seaborn\n",
    "!pip install yfinance"
   ]
  },
  {
   "cell_type": "code",
   "execution_count": null,
   "metadata": {
    "id": "J0EvjAs94fSK"
   },
   "outputs": [],
   "source": [
    "import numpy as np\n",
    "import pandas as pd\n",
    "from pandas_datareader import data as web\n",
    "import matplotlib.pyplot as plt\n",
    "import seaborn as sns\n",
    "import time\n",
    "from tqdm import tqdm\n",
    "import datetime\n",
    "import matplotlib as mpl\n",
    "from scipy.optimize import minimize\n",
    "import yfinance as yf\n",
    "yf.pdr_override()\n",
    "PATH='data/'"
   ]
  },
  {
   "cell_type": "code",
   "execution_count": null,
   "metadata": {},
   "outputs": [],
   "source": [
    "def get_portfolio(ticker,df):\n",
    "    result = df[df['ticker']==ticker]['final_stocks'].values\n",
    "    if len(result)>0:\n",
    "        res = []\n",
    "        for data in result[0]:\n",
    "            ticker,exch = data.split()\n",
    "            if exch =='US':\n",
    "                res.append(ticker)\n",
    "            else:\n",
    "                res.append(ticker+'.'+exch)\n",
    "        return res\n",
    "\n",
    "    else:\n",
    "        print(\"해당 종목은 찾을 수 없는 종목입니다\")\n",
    "        return None"
   ]
  },
  {
   "cell_type": "code",
   "execution_count": null,
   "metadata": {},
   "outputs": [],
   "source": [
    "No_ISIN_list =[]\n",
    "def find_incode(stock):\n",
    "    result=  stock_name_data[stock_name_data[0]==stock][1].values\n",
    "    if len(result)>0:\n",
    "        return result[0]\n",
    "    else:\n",
    "        return stock\n",
    "def make_price_score(ticker):\n",
    "    try :\n",
    "        new_dict=price_corr_df[ticker].to_dict()\n",
    "        sorted_dict = {key: value for key, value in sorted(new_dict.items(), key=lambda item: item[1],reverse=True)}\n",
    "        top_items = {key: sorted_dict[key] for key in list(sorted_dict.keys())[1:11]}\n",
    "        bottom_items = {key: sorted_dict[key] for key in list(sorted_dict.keys())[-10:]}\n",
    "        merged_dict = top_items.copy()  # 첫 번째 딕셔너리를 복사하여 새로운 딕셔너리 생성\n",
    "        merged_dict.update(bottom_items)\n",
    "        return {find_ISIN_with_ticker(key): value for key, value in merged_dict.items()}\n",
    "    except Exception as E:\n",
    "        print(E)\n",
    "        return{}\n",
    "\n",
    "def find_ISIN_with_ticker(ticker):\n",
    "    result = df[df['ticker']==ticker]['ISIN'].values\n",
    "    if len(result)>0:\n",
    "        return result[0]\n",
    "    else:\n",
    "        return ticker\n",
    "\n",
    "def make_price_ticker(ticker):\n",
    "    a,b = ticker.split(' ')\n",
    "    ticker,exch = ticker.split()\n",
    "    if exch =='US':\n",
    "        return ticker\n",
    "    else:\n",
    "        return (ticker+'.'+exch)\n",
    "\n",
    "#해당 score를 normalize 합니다.\n",
    "def normalize(value,min_value,max_value):\n",
    "    return (value - min_value) / (max_value - min_value) if max_value != min_value else 1\n",
    "\n",
    "#해당 score_dcit을 normalize 합니다.\n",
    "def normalize_dict(original):\n",
    "    if not original:\n",
    "        return {}\n",
    "    max_value = max(original.values())\n",
    "    min_value = min(original.values())\n",
    "    if min_value<0:\n",
    "        normalized_dict = {key: -normalize(value,max_value,min_value) for key, value in original.items()}\n",
    "        sorted_dict = {key: value for key, value in sorted(normalized_dict.items(), key=lambda item: item[1],reverse=False)}\n",
    "\n",
    "    else:\n",
    "        normalized_dict = {key: normalize(value,min_value,max_value) for key, value in original.items()}\n",
    "        sorted_dict = {key: value for key, value in sorted(normalized_dict.items(), key=lambda item: item[1],reverse=True)}\n",
    "\n",
    "\n",
    "    return sorted_dict\n",
    "\n",
    "#해당 각 관계의 dcit을 normalize 합니다.\n",
    "def merge_dict(dick_list):\n",
    "    merged_dict = {}\n",
    "    dict_list= [normalize_dict(x) for x in dick_list]\n",
    "    for x in dict_list:\n",
    "        for key, value in x.items():\n",
    "            merged_dict[key] = merged_dict.get(key, 0) + value\n",
    "    sorted_dict = {key: value for key, value in sorted(merged_dict.items(), key=lambda item: item[1],reverse=True)}\n",
    "    return sorted_dict\n",
    "\n",
    "#해당 각 상위와 하위위 dcit 후보를 normalize 합니다.\n",
    "def make_stock_list(merged_dict,top, bottom):\n",
    "    top_items = {key: merged_dict[key] for key in list(merged_dict.keys())[:top]}\n",
    "    if bottom == 0:\n",
    "        bottom_items = {}\n",
    "    else:\n",
    "        bottom_items = {key: merged_dict[key] for key in list(merged_dict.keys())[-bottom:]}\n",
    "    merged_dict = merge_dict([top_items,bottom_items])\n",
    "    return merged_dict\n",
    "\n",
    "#ISIN을 기반으로 ticker를 가져옵니다.\n",
    "def find_ticker(ISIN):\n",
    "    ticker=  domain_df[domain_df['ISIN']==ISIN]['ticker'].values\n",
    "    exchCode = domain_df[domain_df['ISIN']==ISIN]['exchCode'].values\n",
    "    if len(ticker)>0:\n",
    "        if len(exchCode)>0:\n",
    "            return ticker[0]+' '+exchCode[0]\n",
    "    else:\n",
    "        ticker=  ISIN_ticker_data[ISIN_ticker_data['ISIN']==ISIN]['ticker'].values\n",
    "        if len(ticker)>0:\n",
    "            return ticker[0]\n",
    "        return ISIN\n",
    "\n",
    "#dedicate된 후보들을 tiker화 시켜 반환합니다.\n",
    "def make_stock_list_with_ticker(final_dict,input_stock):\n",
    "    stocklist =list(final_dict.keys())\n",
    "    stocklist.append(input_stock)\n",
    "    if not stocklist:\n",
    "        return None\n",
    "    else:\n",
    "        stocklist= [ find_ticker(x) for x in stocklist]\n",
    "        return stocklist\n",
    "\n",
    "#관계 scoere를 기반으로 가져올 연관비중을 선택하여 최종 포트폴리우 구성 후보를 가져옵니다.\n",
    "def get_portfolio_ratio(ticker,df,top,bottom):\n",
    "    df['dedicate_stocks'] =None\n",
    "    for index, row in tqdm(df.iterrows(), total=len(df), desc=\"Calculating scores\"):\n",
    "        df.at[index, 'dedicate_stocks'] = make_stock_list(row['total_score'],top, bottom)\n",
    "    df['final_stocks'] =None\n",
    "    for index, row in tqdm(df.iterrows(), total=len(df), desc=\"Calculating scores\"):\n",
    "        df.at[index, 'final_stocks'] = make_stock_list_with_ticker(row['dedicate_stocks'],row['ISIN'])\n",
    "    result = df[df['ticker']==ticker]['final_stocks'].values\n",
    "    if len(result)>0:\n",
    "        res = []\n",
    "        for data in result[0]:\n",
    "            ticker,exch = data.split()\n",
    "            if exch =='US':\n",
    "                res.append(ticker)\n",
    "            else:\n",
    "                res.append(ticker+'.'+exch)\n",
    "        return res\n",
    "\n",
    "    else:\n",
    "        print(\"해당 종목은 찾을 수 었는 종목입니다\")\n",
    "        return None"
   ]
  },
  {
   "cell_type": "code",
   "execution_count": null,
   "metadata": {},
   "outputs": [],
   "source": [
    "domain_df = pd.read_csv(f\"{PATH}domain_data.csv\")\n",
    "ISIN_ticker_data= pd.read_pickle(f\"{PATH}ISIN_ticker_data.pkl\")\n",
    "price_corr_df = pd.read_pickle(f\"{PATH}stock_price_corr_data\")\n",
    "relation_score = pd.read_pickle(f\"{PATH}domain_total_filter.pkl\")"
   ]
  },
  {
   "cell_type": "markdown",
   "metadata": {
    "id": "ifXalfUm6El3",
    "tags": []
   },
   "source": [
    "# 학습 데이터 셋 설정"
   ]
  },
  {
   "cell_type": "code",
   "execution_count": null,
   "metadata": {
    "id": "MsOqQDi_4lRH"
   },
   "outputs": [],
   "source": [
    "# 학습 데이터셋 기간 설정\n",
    "start = datetime.datetime(2023, 1, 25)\n",
    "end = datetime.datetime(2023, 8, 30)"
   ]
  },
  {
   "cell_type": "code",
   "execution_count": null,
   "metadata": {
    "id": "skJ0tBLO4vy_"
   },
   "outputs": [],
   "source": [
    "# 상관관계 정도 상위 5개 하위 4개 종목\n",
    "tickers = get_portfolio_ratio('AMZN',relation_score, 4, 5)"
   ]
  },
  {
   "cell_type": "code",
   "execution_count": null,
   "metadata": {},
   "outputs": [],
   "source": [
    "tickers"
   ]
  },
  {
   "cell_type": "code",
   "execution_count": null,
   "metadata": {
    "colab": {
     "base_uri": "https://localhost:8080/"
    },
    "id": "IqcGU2_A4_Ro",
    "outputId": "e41097b2-ae9f-4594-a7f5-05ab729e8fcc"
   },
   "outputs": [],
   "source": [
    "num_kr = pd.Series(tickers).str.endswith(('.KS', '.KQ')).sum()\n",
    "num_us = (~pd.Series(tickers).str.endswith(('.KS', '.KQ'))).sum()\n",
    "adjClose = pd.DataFrame()\n",
    "#exch_list =['.KS','.KQ']\n",
    "\n",
    "for item in tickers:\n",
    "        data = web.get_data_yahoo(item, start=start, end=end)\n",
    "        if len(data)<1:\n",
    "            a, b = item.split('.')\n",
    "            if b == 'KS':\n",
    "                item = a + '.KQ'\n",
    "                data = web.get_data_yahoo(item, start=start, end=end)\n",
    "                adjClose[item] = data['Adj Close'].astype(float)\n",
    "            if b == 'KQ':\n",
    "                item = a + '.KS'\n",
    "                data = web.get_data_yahoo(item, start=start, end=end)\n",
    "                adjClose[item] = data['Adj Close'].astype(float)\n",
    "\n",
    "        adjClose[item] = data['Adj Close'].astype(float)\n",
    "\n",
    "# 로그 리턴 계산\n",
    "daily_log_returns = np.log(adjClose/adjClose.shift(1)).dropna()\n",
    "# 연간 로그 수익률 계산\n",
    "meanReturns = daily_log_returns.mean()\n",
    "annualReturns = daily_log_returns.mean() * 252\n",
    "# 종목간의 수익률 공분산 계산\n",
    "cov_daily = daily_log_returns.cov()\n",
    "cov_annual = cov_daily * 252\n"
   ]
  },
  {
   "cell_type": "code",
   "execution_count": null,
   "metadata": {},
   "outputs": [],
   "source": [
    "adjClose.columns"
   ]
  },
  {
   "cell_type": "code",
   "execution_count": null,
   "metadata": {
    "colab": {
     "base_uri": "https://localhost:8080/"
    },
    "id": "F-2jR-LjZBfZ",
    "outputId": "e1ab577d-f919-4aa9-b80f-0f9084b7cfa0"
   },
   "outputs": [],
   "source": [
    "num_kr"
   ]
  },
  {
   "cell_type": "code",
   "execution_count": null,
   "metadata": {
    "colab": {
     "base_uri": "https://localhost:8080/"
    },
    "id": "n5PjwQtCZEs7",
    "outputId": "2b5854d2-aba2-435c-d516-7302c0ba0dc6"
   },
   "outputs": [],
   "source": [
    "num_us"
   ]
  },
  {
   "cell_type": "code",
   "execution_count": null,
   "metadata": {},
   "outputs": [],
   "source": [
    "# KOFR = 한국 무위험 수익률 출처:(https://www.kofr.kr/main.jsp)\n",
    "rf1 = pd.read_csv(f\"{PATH}KOFR.csv\")\n",
    "kor_rf = round((rf1['KOFR'].mean()) / 100 , 4)\n",
    "kor_rf"
   ]
  },
  {
   "cell_type": "code",
   "execution_count": null,
   "metadata": {},
   "outputs": [],
   "source": [
    "# SOFR = 미국 무위험 수익률 출처:(https://www.newyorkfed.org/markets/reference-rates/sofr)\n",
    "rf2 = pd.read_csv(f\"{PATH}SOFR.csv\")\n",
    "us_rf = round((rf2['Rate (%)'].mean()) / 100 , 4)\n",
    "us_rf"
   ]
  },
  {
   "cell_type": "code",
   "execution_count": null,
   "metadata": {},
   "outputs": [],
   "source": [
    "# 포트폴리오 무위험 이자율 = 각 자산군별 국가의 무위험 수익률의 가중치\n",
    "n_assets = len(tickers)\n",
    "w_kr = num_kr / n_assets\n",
    "w_us = num_us / n_assets\n",
    "p_rf = round((w_kr * kor_rf + w_us * us_rf), 4)\n",
    "p_rf"
   ]
  },
  {
   "cell_type": "markdown",
   "metadata": {
    "id": "BMtIfVjq6kB6",
    "tags": []
   },
   "source": [
    "# 최소분산 포트폴리오 구성"
   ]
  },
  {
   "cell_type": "code",
   "execution_count": null,
   "metadata": {
    "colab": {
     "base_uri": "https://localhost:8080/"
    },
    "id": "-6-Q-ach6mQA",
    "outputId": "3ada3e47-78f5-4872-e276-1b8a72611a23"
   },
   "outputs": [],
   "source": [
    "# n번개의 랜덤한 비중을 가지는 포트폴리오 구성\n",
    "p_returns = []\n",
    "p_volatility = []\n",
    "p_weights = []\n",
    "\n",
    "n_assets = len(tickers)\n",
    "n_ports = 200000\n",
    "\n",
    "for s in tqdm(range(n_ports)):\n",
    "  wgt = np.random.random(n_assets)\n",
    "  wgt /= np.sum(wgt)\n",
    "  ret = np.dot(wgt, annualReturns)\n",
    "  vol = np.sqrt(np.dot(wgt.T, np.dot(cov_annual, wgt)))\n",
    "  p_returns.append(ret)\n",
    "  p_volatility.append(vol)\n",
    "  p_weights.append(wgt)"
   ]
  },
  {
   "cell_type": "code",
   "execution_count": null,
   "metadata": {
    "colab": {
     "base_uri": "https://localhost:8080/",
     "height": 580
    },
    "id": "l8SF0SZi7JFb",
    "outputId": "25eb4171-9d4c-40a3-87e9-996bc8607dc7"
   },
   "outputs": [],
   "source": [
    "# 랜덤 포트폴리오 시각화\n",
    "#plt.figure(figsize=(15, 15))\n",
    "p_volatility = np.array(p_volatility)\n",
    "p_returns = np.array(p_returns)\n",
    "colors = p_returns/p_volatility\n",
    "plt.style.use('seaborn')\n",
    "plt.scatter(p_volatility, p_returns, c=colors, marker='o', cmap=mpl.cm.jet)\n",
    "plt.xlabel('Volatility')\n",
    "plt.ylabel('Expected Returns')\n",
    "plt.title('Efficient Frontier')\n",
    "plt.show()"
   ]
  },
  {
   "cell_type": "markdown",
   "metadata": {
    "tags": []
   },
   "source": [
    "## 최소분산 최적화 방법1"
   ]
  },
  {
   "cell_type": "code",
   "execution_count": null,
   "metadata": {
    "id": "tLRncnE57Lij"
   },
   "outputs": [],
   "source": [
    "# 변동성 최적화 목적함수\n",
    "def obj_variance(weights, covmat):\n",
    "    vol = np.sqrt(np.dot(weights, np.dot(covmat, weights.T)))\n",
    "    return vol"
   ]
  },
  {
   "cell_type": "code",
   "execution_count": null,
   "metadata": {
    "id": "sKHlzfCU8FcA"
   },
   "outputs": [],
   "source": [
    "# 변동성 계산함수\n",
    "def cal_variance(weights, covmat):\n",
    "    vol = np.sqrt(np.dot(weights, np.dot(covmat, weights.T)))\n",
    "    return vol"
   ]
  },
  {
   "cell_type": "code",
   "execution_count": null,
   "metadata": {
    "id": "61coFtVs8YCJ"
   },
   "outputs": [],
   "source": [
    "# 수익률 계산 함수\n",
    "def cal_return(weight, annualreturns):\n",
    "  returns = np.sum(weight * annualreturns)\n",
    "  return returns"
   ]
  },
  {
   "cell_type": "code",
   "execution_count": null,
   "metadata": {
    "id": "_f-Za8u77iIe"
   },
   "outputs": [],
   "source": [
    "weights = np.ones([n_assets])/n_assets # 초기 비중은 균일하게 시작\n",
    "bnds = tuple((0., 1.) for i in range(n_assets)) # 종목당 최소 투자비중 : 0%, 최대 투자가능 비중: 100%\n",
    "cons = ({'type': 'eq', 'fun': lambda w:  np.sum(w) - 1}) # 투자비중의 합이 1이 되게 설정\n",
    "res = minimize(obj_variance, weights, cov_annual, method='SLSQP', bounds=bnds, constraints=cons)"
   ]
  },
  {
   "cell_type": "code",
   "execution_count": null,
   "metadata": {
    "colab": {
     "base_uri": "https://localhost:8080/",
     "height": 580
    },
    "id": "MFe5bSeQ7yAB",
    "outputId": "f53b7cb3-3db3-457b-bc7d-a8079d7359c0"
   },
   "outputs": [],
   "source": [
    "# 최소분산 포트폴리오 시각화\n",
    "rets = cal_return(res['x'], annualReturns)\n",
    "vol = cal_variance(res['x'],cov_annual)\n",
    "p_volatility = np.array(p_volatility)\n",
    "p_returns = np.array(p_returns)\n",
    "colors = p_returns/p_volatility\n",
    "plt.style.use('seaborn')\n",
    "plt.scatter(p_volatility, p_returns, c=colors, marker='o', cmap=mpl.cm.jet)\n",
    "plt.scatter(vol, rets, color = 'purple', marker=\"*\", s=300, alpha=1.0)\n",
    "plt.xlabel('Volatility (Std. Deviation)')\n",
    "plt.ylabel('Expected Returns')\n",
    "plt.title('Efficient Frontier')\n",
    "plt.show()"
   ]
  },
  {
   "cell_type": "code",
   "execution_count": null,
   "metadata": {
    "colab": {
     "base_uri": "https://localhost:8080/"
    },
    "id": "CtdxqUjn8-e5",
    "outputId": "3e4eed94-6713-4461-a049-3735b0de7fa3"
   },
   "outputs": [],
   "source": [
    "print(\"최적화된 포트폴리오 투자 비중 :\", res['x'])\n",
    "print(\"최적화된 포트폴리오 투자 수익률 :\", cal_return(res['x'], annualReturns))\n",
    "print(\"최적화된 포트폴리오 위험정도 :\", cal_variance(res['x'],cov_annual))\n",
    "print(\"최적화된 포트폴리오 샤프지수정도 :\", (rets-p_rf)/vol)\n",
    "# 극단적인 비중 조정을 하게 된다. 이는 포트폴리오 구성 목적에 맞지 않는다."
   ]
  },
  {
   "cell_type": "markdown",
   "metadata": {},
   "source": [
    "## 최소분산 최적화 방법2"
   ]
  },
  {
   "cell_type": "code",
   "execution_count": null,
   "metadata": {},
   "outputs": [],
   "source": [
    "# 랜덤비중 구성 포트폴리오 중 선택\n",
    "p_returns = []\n",
    "p_volatility = []\n",
    "p_weights = []\n",
    "p_sharp = []\n",
    "n_assets = len(tickers)\n",
    "# n_ports = int(input(\"랜덤하게 만들 포트폴리오 갯수를 입력하세요:\"))\n",
    "n_ports = 200000\n",
    "\n",
    "for s in tqdm(range(n_ports)):\n",
    "  wgt = np.random.random(n_assets)\n",
    "  wgt /= np.sum(wgt)\n",
    "  ret = np.dot(wgt, annualReturns)\n",
    "  vol = np.sqrt(np.dot(wgt.T, np.dot(cov_annual, wgt)))\n",
    "  p_returns.append(ret)\n",
    "  p_volatility.append(vol)\n",
    "  p_weights.append(wgt)\n",
    "\n",
    "port = pd.DataFrame({\n",
    "    'Returns': p_returns,\n",
    "    'Volatility': p_volatility,\n",
    "    'Weights': p_weights,\n",
    "})\n",
    "min_vol = port[port['Volatility'] == port['Volatility'].min()]\n",
    "rets = min_vol['Returns'].iloc[0]\n",
    "vol = min_vol['Volatility'].iloc[0]"
   ]
  },
  {
   "cell_type": "code",
   "execution_count": null,
   "metadata": {},
   "outputs": [],
   "source": [
    "# 시각화\n",
    "p_volatility = np.array(p_volatility)\n",
    "p_returns = np.array(p_returns)\n",
    "colors = p_returns/p_volatility\n",
    "plt.style.use('seaborn')\n",
    "plt.scatter(p_volatility, p_returns, c=colors, marker='o', cmap=mpl.cm.jet)\n",
    "plt.scatter(vol, rets, color = 'purple', marker=\"*\", s=200, alpha=1.0)\n",
    "plt.xlabel('Volatility (Std. Deviation)')\n",
    "plt.ylabel('Expected Returns')\n",
    "plt.title('Efficient Frontier')\n",
    "plt.show()"
   ]
  },
  {
   "cell_type": "code",
   "execution_count": null,
   "metadata": {},
   "outputs": [],
   "source": [
    "weights = np.array(min_vol['Weights'].iloc[0])\n",
    "print(\"최적화된 포트폴리오 투자 비중(%) :\", weights)\n",
    "print(\"최적화된 포트폴리오 투자 수익률 :\", (min_vol['Returns'].iloc[0]))\n",
    "print(\"최적화된 포트폴리오 위험정도 :\", (min_vol['Volatility'].iloc[0]))\n",
    "print(\"최적화된 포트폴리오 샤프지수정도 :\", (rets-p_rf)/vol)\n",
    "# 투자 수익률이 낮다."
   ]
  },
  {
   "cell_type": "markdown",
   "metadata": {
    "tags": []
   },
   "source": [
    "# Sharpe Ratio 최적화"
   ]
  },
  {
   "cell_type": "markdown",
   "metadata": {
    "id": "H9OIMtHHIXxp",
    "tags": []
   },
   "source": [
    "## Sharpe Ratio 최적화방법 1"
   ]
  },
  {
   "cell_type": "code",
   "execution_count": null,
   "metadata": {
    "id": "XrEAR1A39J2m"
   },
   "outputs": [],
   "source": [
    "# shrpe ratio 최적화 함수 설정\n",
    "def obj_sharpe(weights, returns, covmat, rf):\n",
    "    ret = np.dot(weights, returns)\n",
    "    vol = np.sqrt(np.dot(weights.T, np.dot(covmat, weights)))\n",
    "    return -(ret-rf)/vol"
   ]
  },
  {
   "cell_type": "code",
   "execution_count": null,
   "metadata": {
    "id": "itlhd0blBE2J"
   },
   "outputs": [],
   "source": [
    "# shrpe ratio 계산 함수\n",
    "def cal_sharpe(weights, returns, covmat, rf):\n",
    "    ret = np.dot(weights, returns)\n",
    "    vol = np.sqrt(np.dot(weights.T, np.dot(covmat, weights)))\n",
    "    return (ret-rf)/vol"
   ]
  },
  {
   "cell_type": "code",
   "execution_count": null,
   "metadata": {
    "colab": {
     "base_uri": "https://localhost:8080/"
    },
    "id": "bW1z900u92he",
    "outputId": "16165e68-5379-48a5-b193-bf9af33acf5f",
    "tags": []
   },
   "outputs": [],
   "source": [
    "# KOFR = 한국 무위험 수익률 출처:(https://www.kofr.kr/main.jsp)\n",
    "rf1 = pd.read_csv(f\"{PATH}KOFR.csv\")\n",
    "kor_rf = round((rf1['KOFR'].mean()) / 100 , 4)\n",
    "kor_rf"
   ]
  },
  {
   "cell_type": "code",
   "execution_count": null,
   "metadata": {
    "colab": {
     "base_uri": "https://localhost:8080/"
    },
    "id": "KKiN7g__UMZ7",
    "outputId": "e6afefa2-4b53-4a4d-8b0a-5b5f84720efb",
    "tags": []
   },
   "outputs": [],
   "source": [
    "# SOFR = 미국 무위험 수익률 출처:(https://www.newyorkfed.org/markets/reference-rates/sofr)\n",
    "rf2 = pd.read_csv(f\"{PATH}SOFR.csv\")\n",
    "us_rf = round((rf2['Rate (%)'].mean()) / 100 , 4)\n",
    "us_rf"
   ]
  },
  {
   "cell_type": "code",
   "execution_count": null,
   "metadata": {
    "id": "mtws_iLkjYlq"
   },
   "outputs": [],
   "source": [
    "# 포트폴리오 무위험 이자율 = 각 자산군별 국가의 무위험 수익률의 가중치\n",
    "n_assets = len(tickers)\n",
    "w_kr = num_kr / n_assets\n",
    "w_us = num_us / n_assets\n",
    "p_rf = round((w_kr * kor_rf + w_us * us_rf), 4)\n",
    "p_rf"
   ]
  },
  {
   "cell_type": "code",
   "execution_count": null,
   "metadata": {
    "id": "bGReS5b79xJF"
   },
   "outputs": [],
   "source": [
    "# sharpe ratio 최적화 방법 1 최적화 함수 사용\n",
    "n_assets = len(tickers)\n",
    "weights = np.ones([n_assets])/n_assets\n",
    "bnds = tuple((0, 1.0) for i in range(n_assets))\n",
    "cons = ({'type': 'eq', 'fun': lambda w:  np.sum(w) - 1})\n",
    "res = minimize(obj_sharpe, weights,(annualReturns, cov_annual, p_rf), method='SLSQP', bounds=bnds, constraints=cons)"
   ]
  },
  {
   "cell_type": "code",
   "execution_count": null,
   "metadata": {
    "colab": {
     "base_uri": "https://localhost:8080/"
    },
    "id": "bRtn8ivj-WDu",
    "outputId": "6fc98a40-2abc-44e3-b9ec-0566fe6ffe5f"
   },
   "outputs": [],
   "source": [
    "print(res['x'])"
   ]
  },
  {
   "cell_type": "code",
   "execution_count": null,
   "metadata": {
    "colab": {
     "base_uri": "https://localhost:8080/",
     "height": 580
    },
    "id": "goBkt6t6ANe1",
    "outputId": "5d43f9cd-beab-4d31-ad47-e385a6466c8f"
   },
   "outputs": [],
   "source": [
    "# 포트폴리오 시각화\n",
    "rets = cal_return(res['x'], annualReturns)\n",
    "vol = cal_variance(res['x'],cov_annual)\n",
    "p_volatility = np.array(p_volatility)\n",
    "p_returns = np.array(p_returns)\n",
    "colors = p_returns/p_volatility\n",
    "plt.style.use('seaborn')\n",
    "plt.scatter(p_volatility, p_returns, c=colors, marker='o', cmap=mpl.cm.jet)\n",
    "plt.scatter(vol, rets, color = 'purple', marker=\"*\", s=200, alpha=1.0)\n",
    "plt.xlabel('Volatility (Std. Deviation)')\n",
    "plt.ylabel('Expected Returns')\n",
    "plt.title('Efficient Frontier')\n",
    "plt.show()"
   ]
  },
  {
   "cell_type": "code",
   "execution_count": null,
   "metadata": {
    "colab": {
     "base_uri": "https://localhost:8080/"
    },
    "id": "1uvMHqQEA6fJ",
    "outputId": "f1856b52-f656-4b95-bd4b-2e9dd4bb4234"
   },
   "outputs": [],
   "source": [
    "weights = res['x']\n",
    "rounded_weights = [round(element,5)for element in weights]\n",
    "print(\"최적화된 포트폴리오 투자 비중(%) :\", rounded_weights)\n",
    "print(\"최적화된 포트폴리오 투자 수익률 :\", cal_return(res['x'], annualReturns))\n",
    "print(\"최적화된 포트폴리오 위험정도 :\", cal_variance(res['x'],cov_annual))\n",
    "print(\"최적화된 포트폴리오 샤프지수정도 :\", cal_sharpe(res['x'], annualReturns, cov_annual, p_rf))\n",
    "# 특정 주식에 비중이 몰려있고 일부 주식은 투자를 안하는 경우가 있다."
   ]
  },
  {
   "cell_type": "markdown",
   "metadata": {
    "id": "9hD8w-I7IPaK",
    "tags": []
   },
   "source": [
    "## Sharpe Ratio 최적화방법 2"
   ]
  },
  {
   "cell_type": "code",
   "execution_count": null,
   "metadata": {
    "colab": {
     "base_uri": "https://localhost:8080/"
    },
    "id": "dJUr8R_9BXl1",
    "outputId": "c4c798fa-f341-450a-e068-bf0951fdad2f"
   },
   "outputs": [],
   "source": [
    "# 랜덤비중 구성 포트폴리오 중 선택\n",
    "p_returns = []\n",
    "p_volatility = []\n",
    "p_weights = []\n",
    "p_sharp = []\n",
    "n_assets = len(tickers)\n",
    "# n_ports = int(input(\"랜덤하게 만들 포트폴리오 갯수를 입력하세요:\"))\n",
    "n_ports = 200000\n",
    "\n",
    "for s in tqdm(range(n_ports)):\n",
    "  wgt = np.random.random(n_assets)\n",
    "  wgt /= np.sum(wgt)\n",
    "  ret = np.dot(wgt, annualReturns)\n",
    "  vol = np.sqrt(np.dot(wgt.T, np.dot(cov_annual, wgt)))\n",
    "  sharp = (ret-p_rf)/vol\n",
    "  p_returns.append(ret)\n",
    "  p_volatility.append(vol)\n",
    "  p_weights.append(wgt)\n",
    "  p_sharp.append(sharp)\n",
    "\n",
    "port = pd.DataFrame({\n",
    "    'Returns': p_returns,\n",
    "    'Volatility': p_volatility,\n",
    "    'Weights': p_weights,\n",
    "    'Sharpe Ratio': p_sharp\n",
    "})"
   ]
  },
  {
   "cell_type": "code",
   "execution_count": null,
   "metadata": {},
   "outputs": [],
   "source": [
    "max_sharpe = port[port['Sharpe Ratio'] == port['Sharpe Ratio'].max()]\n",
    "rets = max_sharpe['Returns'].iloc[0]\n",
    "vol = max_sharpe['Volatility'].iloc[0]"
   ]
  },
  {
   "cell_type": "code",
   "execution_count": null,
   "metadata": {
    "colab": {
     "base_uri": "https://localhost:8080/",
     "height": 580
    },
    "id": "8OAUN5jgCjq6",
    "outputId": "f8c5b30d-1a9f-45e3-c025-2ab8a1b5e0b0"
   },
   "outputs": [],
   "source": [
    "# 시각화\n",
    "p_volatility = np.array(p_volatility)\n",
    "p_returns = np.array(p_returns)\n",
    "colors = p_returns/p_volatility\n",
    "plt.style.use('seaborn')\n",
    "plt.scatter(p_volatility, p_returns, c=colors, marker='o', cmap=mpl.cm.jet)\n",
    "plt.scatter(vol, rets, color = 'purple', marker=\"*\", s=200, alpha=1.0)\n",
    "plt.xlabel('Volatility (Std. Deviation)')\n",
    "plt.ylabel('Expected Returns')\n",
    "plt.title('Efficient Frontier')\n",
    "plt.show()"
   ]
  },
  {
   "cell_type": "code",
   "execution_count": null,
   "metadata": {
    "colab": {
     "base_uri": "https://localhost:8080/"
    },
    "id": "-QyN64akClI4",
    "outputId": "8f89c11e-e49f-446d-8563-32712b00103c"
   },
   "outputs": [],
   "source": [
    "weights = np.array(max_sharpe['Weights'].iloc[0])\n",
    "rounded_weights = [round(element, 4) for element in weights]\n",
    "print(\"최적화된 포트폴리오 투자 비중(%) :\", rounded_weights)\n",
    "print(\"최적화된 포트폴리오 투자 수익률 :\", max_sharpe['Returns'].iloc[0])\n",
    "print(\"최적화된 포트폴리오 무위험 수익 대비 수익률 :\", round(max_sharpe['Returns'].iloc[0] - p_rf,2))\n",
    "print(\"최적화된 포트폴리오 위험정도 :\", (max_sharpe['Volatility'].iloc[0]))\n",
    "print(\"최적화된 포트폴리오 샤프지수정도 :\", (rets-p_rf)/vol)\n",
    "# 여전히 특정 주식에 대한 비중이 낮다"
   ]
  },
  {
   "cell_type": "markdown",
   "metadata": {
    "id": "05nJ_3AK1k-9",
    "tags": []
   },
   "source": [
    "# risk-parity (포트폴리오 종목들의 위험기여도가 동일하게 구성)"
   ]
  },
  {
   "cell_type": "code",
   "execution_count": null,
   "metadata": {
    "id": "zPwy6RaQ1srv"
   },
   "outputs": [],
   "source": [
    "# 리스크 기여도 계산\n",
    "def cal_risk_contribution(w, covmat):\n",
    "    w = np.matrix(w)\n",
    "    sigma = cal_variance(w, covmat)\n",
    "    MRC = np.dot(covmat, w.T)\n",
    "    RC = np.multiply(MRC, w.T) / sigma\n",
    "    return RC"
   ]
  },
  {
   "cell_type": "code",
   "execution_count": null,
   "metadata": {
    "id": "ZLjmqvQQ1t9i"
   },
   "outputs": [],
   "source": [
    "def risk_budget_objective(weights, covmat):\n",
    "    # 포트폴리오 위험계산\n",
    "    sig_p = obj_variance(weights, covmat)\n",
    "    # 자산별 위험목표 설정\n",
    "    risk_target = np.multiply(sig_p, weights)\n",
    "    # 자산 위험도 계산\n",
    "    asset_RC = cal_risk_contribution(weights, covmat)\n",
    "    # 목적함수 평가: 자산 위험 기여금과 각각의 위험 목표 간의 차이의 제곱합\n",
    "    result = sum(np.square(asset_RC - risk_target.T))[0, 0]\n",
    "    return result"
   ]
  },
  {
   "cell_type": "code",
   "execution_count": null,
   "metadata": {
    "id": "U7UCw41c1pmI"
   },
   "outputs": [],
   "source": [
    "n_assets = len(tickers)\n",
    "weights = np.ones([n_assets]) / n_assets\n",
    "bnds = tuple((0, 1.0) for i in range(n_assets))\n",
    "cons = ({'type': 'eq', 'fun': lambda w:  np.sum(w) - 1})\n",
    "options = {'maxiter': 1000}\n",
    "res = minimize(risk_budget_objective, weights, cov_annual, method='SLSQP', bounds=bnds, constraints=cons, options = options)"
   ]
  },
  {
   "cell_type": "code",
   "execution_count": null,
   "metadata": {
    "colab": {
     "base_uri": "https://localhost:8080/"
    },
    "id": "BTgJm2Vi5Y-R",
    "outputId": "5f70421c-2c05-451b-8b3b-8b7f5296b8b5"
   },
   "outputs": [],
   "source": [
    "res['x']"
   ]
  },
  {
   "cell_type": "code",
   "execution_count": null,
   "metadata": {
    "colab": {
     "base_uri": "https://localhost:8080/",
     "height": 580
    },
    "id": "R8NLKB4T5_-k",
    "outputId": "08c38c27-46f9-44d9-ec2e-a5c34c996587"
   },
   "outputs": [],
   "source": [
    "rets = cal_return(res['x'], annualReturns)\n",
    "vol = cal_variance(res['x'], cov_annual)\n",
    "sharp = (rets-kor_rf)/vol\n",
    "p_volatility = np.array(p_volatility)\n",
    "p_returns = np.array(p_returns)\n",
    "colors = p_returns/p_volatility\n",
    "plt.style.use('seaborn')\n",
    "plt.scatter(p_volatility, p_returns, c=colors, marker='o', cmap=mpl.cm.jet)\n",
    "plt.scatter(vol, rets, color = 'purple', marker=\"*\", s=200, alpha=1.0)\n",
    "plt.xlabel('Volatility (Std. Deviation)')\n",
    "plt.ylabel('Expected Returns')\n",
    "plt.title('Efficient Frontier')\n",
    "plt.show()"
   ]
  },
  {
   "cell_type": "code",
   "execution_count": null,
   "metadata": {
    "colab": {
     "base_uri": "https://localhost:8080/",
     "height": 485
    },
    "id": "rhuVdlf06cLN",
    "outputId": "646e697b-5753-487e-aa0c-d737f4efab08"
   },
   "outputs": [],
   "source": [
    "# 자산별 리스크 기여도 시각화\n",
    "risk_contributions = cal_risk_contribution(res['x'], cov_annual)\n",
    "risk_contributions_list = [round(float(item), 5) for item in risk_contributions]\n",
    "\n",
    "plt.figure(figsize=(10, 5))\n",
    "plt.bar(range(len(risk_contributions_list)), risk_contributions_list,tick_label = adjClose.columns, align='center')\n",
    "plt.xlabel('Asset')\n",
    "plt.ylabel('Risk Contribution')\n",
    "plt.title('Risk Contributions of Assets in Risk Parity Portfolio')\n",
    "plt.show()"
   ]
  },
  {
   "cell_type": "code",
   "execution_count": null,
   "metadata": {
    "colab": {
     "base_uri": "https://localhost:8080/"
    },
    "id": "d1OQNNYi9hJL",
    "outputId": "9cb8c054-6811-4024-8b60-ff738c46693c"
   },
   "outputs": [],
   "source": [
    "print(\"최적화된 포트폴리오 투자 비중(%) :\", [round(element,4) for element in res['x']])\n",
    "print(\"최적화된 포트폴리오 투자 수익률 :\" + str(cal_return(res['x'], annualReturns)))\n",
    "print(\"최적화된 포트폴리오 위험정도 :\", cal_variance(res['x'],cov_annual))\n",
    "print(\"최적화된 포트폴리오 샤프지수정도 :\", cal_sharpe(res['x'], annualReturns, cov_annual, p_rf))\n",
    "print(\"최적화된 포트폴리오 자산별 리스크 기여도정도 :\", risk_contributions_list)\n",
    "# 비록 샤프비율 최적화에 비해 투자 수익률이 낮게 나오지만 포트폴리오 투자 비중이 극단적이지 않음으로 포트폴리오 구성 목적에 더 적합하다고 생각한다."
   ]
  },
  {
   "cell_type": "markdown",
   "metadata": {
    "tags": []
   },
   "source": [
    "# 테스트"
   ]
  },
  {
   "cell_type": "code",
   "execution_count": null,
   "metadata": {},
   "outputs": [],
   "source": [
    "# 학습 데이터셋 기간 설정\n",
    "start_1 = datetime.datetime(2023, 8, 28)\n",
    "end_1 = datetime.datetime(2023, 11, 16)"
   ]
  },
  {
   "cell_type": "code",
   "execution_count": null,
   "metadata": {},
   "outputs": [],
   "source": [
    "num_kr = pd.Series(tickers).str.endswith(('.KS', '.KQ')).sum()\n",
    "num_us = (~pd.Series(tickers).str.endswith(('.KS', '.KQ'))).sum()\n",
    "adjClose = pd.DataFrame()\n",
    "exch_list =['.KS','.KQ']\n",
    "\n",
    "for item in tickers:\n",
    "        data = web.get_data_yahoo(item, start=start_1, end=end_1)\n",
    "        if len(data)<1:\n",
    "            a, b = item.split('.')\n",
    "            if b == 'KS':\n",
    "                item = a + '.KQ'\n",
    "                data = web.get_data_yahoo(item, start=start_1, end=end_1)\n",
    "                adjClose[item] = data['Adj Close'].astype(float)\n",
    "            if b == 'KQ':\n",
    "                item = a + '.KS'\n",
    "                data = web.get_data_yahoo(item, start=start_1, end=end_1)\n",
    "                adjClose[item] = data['Adj Close'].astype(float)\n",
    "\n",
    "        adjClose[item] = data['Adj Close'].astype(float)\n",
    "\n",
    "adjClose.isnull().sum()\n",
    "# 로그 리턴 계산\n",
    "daily_log_returns = np.log(adjClose/adjClose.shift(1)).dropna()\n",
    "# 연간 로그 수익률 계산\n",
    "meanReturns = daily_log_returns.mean()\n",
    "annualReturns = daily_log_returns.mean() * 50\n",
    "# annualReturns = daily_log_returns.mean() * 250\n",
    "# 종목간의 수익률 공분산 계산\n",
    "cov_daily = daily_log_returns.cov()\n",
    "cov_annual = cov_daily * 50\n",
    "# cov_annual = cov_daily * 250"
   ]
  },
  {
   "cell_type": "code",
   "execution_count": null,
   "metadata": {},
   "outputs": [],
   "source": [
    "res['x']"
   ]
  },
  {
   "cell_type": "code",
   "execution_count": null,
   "metadata": {},
   "outputs": [],
   "source": [
    "p_rets = cal_return(res['x'], annualReturns)\n",
    "p_vol = cal_variance(res['x'], cov_annual)\n",
    "p_sharp = (p_rets-p_rf)/p_vol\n",
    "weights = np.ones([n_assets]) / n_assets\n",
    "i_rets = cal_return(weights, annualReturns)\n",
    "i_vol = cal_variance(weights, cov_annual)\n",
    "i_sharp = (i_rets-p_rf)/i_vol"
   ]
  },
  {
   "cell_type": "code",
   "execution_count": null,
   "metadata": {},
   "outputs": [],
   "source": [
    "print(p_rets)\n",
    "print(p_vol)\n",
    "print(p_sharp)\n",
    "print(i_rets)\n",
    "print(i_vol)\n",
    "print(i_sharp)"
   ]
  },
  {
   "cell_type": "code",
   "execution_count": null,
   "metadata": {},
   "outputs": [],
   "source": [
    "kospi =  web.get_data_yahoo('^KS11', start=start_1, end=end_1)\n",
    "kospi = kospi['Adj Close'].round().astype(int)\n",
    "dailySimpleReturns_kospi = kospi.pct_change().dropna()\n",
    "daily_log_returns_kospi = np.log(kospi/kospi.shift(1)).dropna()\n",
    "# annualise daily returns. 252 trading days in a year\n",
    "meanReturns_kospi = np.matrix(daily_log_returns_kospi.mean())\n",
    "annualReturns_kospi = daily_log_returns_kospi.mean() * 50\n",
    "annualReturns_kospi"
   ]
  },
  {
   "cell_type": "code",
   "execution_count": null,
   "metadata": {},
   "outputs": [],
   "source": [
    "kospi =  web.get_data_yahoo('^KQ11', start=start_1, end=end_1)\n",
    "kospi = kospi['Adj Close'].round().astype(int)\n",
    "dailySimpleReturns_kospi = kospi.pct_change().dropna()\n",
    "daily_log_returns_kospi = np.log(kospi/kospi.shift(1)).dropna()\n",
    "# annualise daily returns. 252 trading days in a year\n",
    "meanReturns_kospi = np.matrix(daily_log_returns_kospi.mean())\n",
    "annualReturns_kospi = daily_log_returns_kospi.mean() * 50\n",
    "annualReturns_kospi"
   ]
  },
  {
   "cell_type": "code",
   "execution_count": null,
   "metadata": {},
   "outputs": [],
   "source": [
    "kospi =  web.get_data_yahoo('^IXIC', start=start_1, end=end_1)\n",
    "kospi = kospi['Adj Close'].round().astype(int)\n",
    "dailySimpleReturns_kospi = kospi.pct_change().dropna()\n",
    "daily_log_returns_kospi = np.log(kospi/kospi.shift(1)).dropna()\n",
    "# annualise daily returns. 252 trading days in a year\n",
    "meanReturns_kospi = np.matrix(daily_log_returns_kospi.mean())\n",
    "annualReturns_kospi = daily_log_returns_kospi.mean() * 50\n",
    "annualReturns_kospi"
   ]
  },
  {
   "cell_type": "code",
   "execution_count": null,
   "metadata": {},
   "outputs": [],
   "source": [
    "kospi =  web.get_data_yahoo('^GSPC', start=start_1, end=end_1)\n",
    "kospi = kospi['Adj Close'].round().astype(int)\n",
    "dailySimpleReturns_kospi = kospi.pct_change().dropna()\n",
    "daily_log_returns_kospi = np.log(kospi/kospi.shift(1)).dropna()\n",
    "# annualise daily returns. 252 trading days in a year\n",
    "meanReturns_kospi = np.matrix(daily_log_returns_kospi.mean())\n",
    "annualReturns_kospi = daily_log_returns_kospi.mean() * 50\n",
    "annualReturns_kospi"
   ]
  },
  {
   "cell_type": "markdown",
   "metadata": {},
   "source": [
    "# 포트폴리오 비교평가"
   ]
  },
  {
   "cell_type": "markdown",
   "metadata": {
    "tags": []
   },
   "source": [
    "## 랜덤추출"
   ]
  },
  {
   "cell_type": "code",
   "execution_count": null,
   "metadata": {},
   "outputs": [],
   "source": [
    "import random\n",
    "import statistics"
   ]
  },
  {
   "cell_type": "code",
   "execution_count": null,
   "metadata": {},
   "outputs": [],
   "source": [
    "def get_tickername(df):\n",
    "    if len(df) != 0:\n",
    "        res = []\n",
    "        for data in df:\n",
    "            ticker,exch = data.split()\n",
    "            if exch ==' ':\n",
    "                res.append(ticker)\n",
    "            else:\n",
    "                res.append(ticker+'.'+exch)\n",
    "        return res\n",
    "\n",
    "    else:\n",
    "        print(\"해당 종목은 찾을 수 없는 종목입니다\")\n",
    "        return None"
   ]
  },
  {
   "cell_type": "code",
   "execution_count": null,
   "metadata": {},
   "outputs": [],
   "source": [
    "stocklist = list(relation_score['ticker'])\n",
    "selected_tickers = random.sample(stocklist, 10)\n",
    "print(selected_tickers)"
   ]
  },
  {
   "cell_type": "code",
   "execution_count": null,
   "metadata": {},
   "outputs": [],
   "source": [
    "num_kr = pd.Series(tickers).str.endswith(('.KS', '.KQ')).sum()\n",
    "num_us = (~pd.Series(tickers).str.endswith(('.KS', '.KQ'))).sum()\n",
    "exch_list =['.KS','.KQ']\n",
    "stocklist = list(relation_score['ticker'])\n",
    "test_return_list = []\n",
    "test_vol_list = []\n",
    "test_sharpe_list = []\n",
    "error = True\n",
    "\n",
    "# while error:\n",
    "for x in selected_tickers:\n",
    "    tickers = get_portfolio(x,relation_score)\n",
    "    count = 0\n",
    "    adjClose = pd.DataFrame()\n",
    "    for item in tickers:\n",
    "        data = web.get_data_yahoo(item, start=start_1, end=end_1)\n",
    "        if len(data)<1:\n",
    "            a, b = item.split('.')\n",
    "            if b == 'KS':\n",
    "                item = a + '.KQ'\n",
    "                data = web.get_data_yahoo(item, start=start_1, end=end_1)\n",
    "                adjClose[item] = data['Adj Close'].astype(float)\n",
    "            if b == 'KQ':\n",
    "                item = a + '.KS'\n",
    "                data = web.get_data_yahoo(item, start=start_1, end=end_1)\n",
    "                adjClose[item] = data['Adj Close'].astype(float)\n",
    "\n",
    "        adjClose[item] = data['Adj Close'].astype(float)\n",
    "\n",
    "    # 로그 리턴 계산\n",
    "    daily_log_returns = np.log(adjClose/adjClose.shift(1)).dropna()\n",
    "    # 연간 로그 수익률 계산\n",
    "    meanReturns = daily_log_returns.mean()\n",
    "    annualReturns = daily_log_returns.mean() * 250\n",
    "    # 종목간의 수익률 공분산 계산\n",
    "    cov_daily = daily_log_returns.cov()\n",
    "    cov_annual = cov_daily * 250\n",
    "    n_assets = len(tickers)\n",
    "    weights = np.ones([n_assets]) / n_assets\n",
    "    bnds = tuple((0, 1.0) for i in range(n_assets))\n",
    "    cons = ({'type': 'eq', 'fun': lambda w:  np.sum(w) - 1})\n",
    "    options = {'maxiter': 1000}\n",
    "    res = minimize(risk_budget_objective, weights, cov_annual, method='SLSQP', bounds=bnds, constraints=cons, options = options)\n",
    "    test_return_list.append(cal_return(res['x'], annualReturns))\n",
    "    test_vol_list.append(cal_variance(res['x'], cov_annual))\n",
    "    test_sharpe_list.append(cal_sharpe(res['x'], annualReturns, cov_annual, p_rf))\n",
    "    # if pd.isna(cal_variance(res['x'], cov_annual)):\n",
    "    #     selected_tickers[count] = random.sample(stocklist, 1)[0]\n",
    "    print(x,\"의최적화된 포트폴리오 투자 비중(%) :\", [round(element,4) for element in res['x']])\n",
    "    print(x,\"의최적화된 포트폴리오 투자 수익률 :\" + str(cal_return(res['x'], annualReturns)))\n",
    "    print(x,\"의최적화된 포트폴리오 위험정도 :\", cal_variance(res['x'],cov_annual))\n",
    "    print(x,\"의최적화된 포트폴리오 샤프지수정도 :\", cal_sharpe(res['x'], annualReturns, cov_annual, p_rf))\n",
    "    print(x,\"의최적화된 포트폴리오 자산별 리스크 기여도정도 :\", risk_contributions_list)\n",
    "\n",
    "#         if not pd.isna(cal_variance(res['x'], cov_annual)):\n",
    "#             error = False\n",
    "\n",
    "\n",
    "\n",
    "\n",
    "\n",
    "\n"
   ]
  },
  {
   "cell_type": "code",
   "execution_count": null,
   "metadata": {},
   "outputs": [],
   "source": [
    "print(statistics.mean(test_return_list))\n",
    "print(statistics.mean(test_vol_list))\n",
    "print(statistics.mean(test_sharpe_list))"
   ]
  },
  {
   "cell_type": "markdown",
   "metadata": {
    "tags": []
   },
   "source": [
    "## 상관관계 비중 조정 추출"
   ]
  },
  {
   "cell_type": "code",
   "execution_count": null,
   "metadata": {},
   "outputs": [],
   "source": [
    "def cal_port_ratio_risk(tickers):\n",
    "    num_kr = pd.Series(tickers).str.endswith(('.KS', '.KQ')).sum()\n",
    "    num_us = (~pd.Series(tickers).str.endswith(('.KS', '.KQ'))).sum()\n",
    "    adjClose = pd.DataFrame()\n",
    "    #exch_list =['.KS','.KQ']\n",
    "\n",
    "    for item in tickers:\n",
    "            data = web.get_data_yahoo(item, start=start, end=end)\n",
    "            if len(data)<1:\n",
    "                a, b = item.split('.')\n",
    "                if b == 'KS':\n",
    "                    item = a + '.KQ'\n",
    "                    data = web.get_data_yahoo(item, start=start, end=end)\n",
    "                    adjClose[item] = data['Adj Close'].astype(float)\n",
    "                if b == 'KQ':\n",
    "                    item = a + '.KS'\n",
    "                    data = web.get_data_yahoo(item, start=start, end=end)\n",
    "                    adjClose[item] = data['Adj Close'].astype(float)\n",
    "\n",
    "            adjClose[item] = data['Adj Close'].astype(float)\n",
    "\n",
    "    # 로그 리턴 계산\n",
    "    daily_log_returns = np.log(adjClose/adjClose.shift(1)).dropna()\n",
    "    # 연간 로그 수익률 계산\n",
    "    meanReturns = daily_log_returns.mean()\n",
    "    annualReturns = daily_log_returns.mean() * 252\n",
    "    # 종목간의 수익률 공분산 계산\n",
    "    cov_daily = daily_log_returns.cov()\n",
    "    cov_annual = cov_daily * 252\n",
    "\n",
    "    n_assets = len(tickers)\n",
    "    weights = np.ones([n_assets]) / n_assets\n",
    "    bnds = tuple((0, 1.0) for i in range(n_assets))\n",
    "    cons = ({'type': 'eq', 'fun': lambda w:  np.sum(w) - 1})\n",
    "    options = {'maxiter': 1000}\n",
    "    res = minimize(risk_budget_objective, weights, cov_annual, method='SLSQP', bounds=bnds, constraints=cons, options = options)\n",
    "\n",
    "    print(\"최적화된 포트폴리오 투자 비중(%) :\", [round(element,4) for element in res['x']])\n",
    "    print(\"최적화된 포트폴리오 투자 수익률 :\" + str(cal_return(res['x'], annualReturns)))\n",
    "    print(\"최적화된 포트폴리오 위험정도 :\", cal_variance(res['x'],cov_annual))\n",
    "    print(\"최적화된 포트폴리오 샤프지수정도 :\", cal_sharpe(res['x'], annualReturns, cov_annual, p_rf))\n",
    "    print(\"최적화된 포트폴리오 자산별 리스크 기여도정도 :\", risk_contributions_list)\n",
    "    # 비록 샤프비율 최적화에 비해 투자 비중이 낮게 나오지만 포트폴리오 투자 비중이 극단적이지 않음으로 포트폴리오 구성 목적에 더 적합하다고 생각한다.\n"
   ]
  },
  {
   "cell_type": "code",
   "execution_count": null,
   "metadata": {},
   "outputs": [],
   "source": [
    "# 상관관계 정도 상위 9개 종목\n",
    "tickers = get_portfolio_ratio('AMZN',relation_score, 9, 0)\n",
    "cal_port_ratio_risk(tickers)"
   ]
  },
  {
   "cell_type": "code",
   "execution_count": null,
   "metadata": {},
   "outputs": [],
   "source": [
    "# 상관관계 정도 하위 9개 종목\n",
    "tickers = get_portfolio_ratio('AMZN',relation_score, 0, 9)\n",
    "cal_port_ratio_risk(tickers)"
   ]
  },
  {
   "cell_type": "code",
   "execution_count": null,
   "metadata": {},
   "outputs": [],
   "source": [
    "# 상관관계 정도 상위 5개 하위 4개 종목\n",
    "tickers = get_portfolio_ratio('AMZN',relation_score, 5, 4)\n",
    "cal_port_ratio_risk(tickers)"
   ]
  },
  {
   "cell_type": "code",
   "execution_count": null,
   "metadata": {},
   "outputs": [],
   "source": [
    "# 상관관계 정도 상위 4개 하위 5개 종목\n",
    "tickers = get_portfolio_ratio('AMZN',relation_score, 4, 5)\n",
    "cal_port_ratio_risk(tickers)"
   ]
  },
  {
   "cell_type": "code",
   "execution_count": null,
   "metadata": {},
   "outputs": [],
   "source": [
    "tickers"
   ]
  },
  {
   "cell_type": "code",
   "execution_count": null,
   "metadata": {},
   "outputs": [],
   "source": [
    "data = web.get_data_yahoo('AMZN', start=start, end=end)\n",
    "adjClose = pd.DataFrame()\n",
    "adjClose['Adj Close'] = data['Adj Close'].astype(float)\n",
    "\n",
    "# 로그 리턴 계산\n",
    "daily_log_returns = np.log(adjClose/adjClose.shift(1)).dropna()\n",
    "# 연간 로그 수익률 계산\n",
    "meanReturns = daily_log_returns.mean()\n",
    "annualReturns = daily_log_returns.mean() * 252\n",
    "# 종목간의 수익률 공분산 계산\n",
    "sigma = daily_log_returns.std()\n",
    "annual_sigma = sigma * np.sqrt(252)"
   ]
  },
  {
   "cell_type": "code",
   "execution_count": null,
   "metadata": {},
   "outputs": [],
   "source": [
    "print(annualReturns)\n",
    "print(annual_sigma)\n",
    "print((annualReturns - us_rf) / annual_sigma)"
   ]
  },
  {
   "cell_type": "code",
   "execution_count": null,
   "metadata": {},
   "outputs": [],
   "source": []
  }
 ],
 "metadata": {
  "colab": {
   "provenance": []
  },
  "kernelspec": {
   "display_name": "Python 3",
   "language": "python",
   "name": "python3"
  },
  "language_info": {
   "codemirror_mode": {
    "name": "ipython",
    "version": 3
   },
   "file_extension": ".py",
   "mimetype": "text/x-python",
   "name": "python",
   "nbconvert_exporter": "python",
   "pygments_lexer": "ipython3",
   "version": "3.7.6"
  }
 },
 "nbformat": 4,
 "nbformat_minor": 4
}
