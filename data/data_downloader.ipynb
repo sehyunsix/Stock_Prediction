{
 "cells": [
  {
   "cell_type": "code",
   "execution_count": 41,
   "metadata": {},
   "outputs": [
    {
     "name": "stdout",
     "output_type": "stream",
     "text": [
      "[*********************100%%**********************]  1 of 1 completed\n"
     ]
    }
   ],
   "source": [
    "\n",
    "from pandas_datareader import data as pdr\n",
    "import yfinance as yfm\n",
    "from tqdm import tqdm\n",
    "yf.pdr_override()\n",
    "\n",
    "ticker_df_list =list(data['Ticker'].unique())\n",
    "price_data={}\n",
    "for ticker in ticker_df_list:\n",
    "    df = yf.download(ticker, interval='1d', period='3y')\n",
    "    price_data[ticker] = df\n",
    "    df.to_csv(f'stockPrice/{ticker}.csv')\n",
    "    break"
   ]
  },
  {
   "cell_type": "code",
   "execution_count": 1,
   "metadata": {},
   "outputs": [
    {
     "name": "stderr",
     "output_type": "stream",
     "text": [
      "100%|██████████| 2743/2743 [00:04<00:00, 561.37it/s]\n"
     ]
    }
   ],
   "source": [
    "\n",
    "import os\n",
    "import pandas as pd\n",
    "from tqdm import tqdm\n",
    "# Set the path to the directory containing the CSV files\n",
    "PATH = '/home/ssu36/tiger/Stock_Prediction/data/stockPrice'\n",
    "\n",
    "# Get the list of CSV files in the directory\n",
    "csv_files = [file for file in os.listdir(PATH) if file.endswith('.csv')]\n",
    "\n",
    "# Initialize an empty dictionary to store the dataframes\n",
    "dfs = {}\n",
    "\n",
    "# Iterate over each CSV file\n",
    "for file in tqdm(csv_files):\n",
    "  # Read the CSV file into a dataframe\n",
    "  df = pd.read_csv(os.path.join(PATH, file))\n",
    "  ticker_name =file.split('.')[0]\n",
    "  df[\"Ticker\"] = ticker_name\n",
    "  # Add the dataframe to the dictionary with the file name as the key\n",
    "  if len(df) == 755:\n",
    "    dfs[ticker_name] = df\n",
    "data = pd.concat(dfs.values(), ignore_index=True)\n",
    "# Print the dictionary of dataframes\n"
   ]
  },
  {
   "cell_type": "code",
   "execution_count": 2,
   "metadata": {},
   "outputs": [],
   "source": [
    "import datasets\n",
    "data= datasets.load_dataset('sehyun66/STOCKPRICE','NASDAQ_3y',split='train')\n",
    "data = data.to_pandas()\n",
    "\n",
    "\n",
    "def min_max(sequences):\n",
    "  results = sequences.copy()\n",
    "  v_min =results.min()\n",
    "  v_max =results.max()\n",
    "  new_min =0\n",
    "  new_max =1\n",
    "  min_max=[]\n",
    "  for index,sequence in enumerate(results):\n",
    "    v_min =sequence.min()\n",
    "    v_max =sequence.max()\n",
    "    v_p = (sequence - v_min)/(v_max - v_min)*(new_max - new_min) + new_min\n",
    "    min_max.append([v_min,v_max])\n",
    "    results[index] = v_p\n",
    "  return results, min_max\n",
    "\n",
    "def inverse_min_max(sequences,min_max):\n",
    "  original = []\n",
    "  for index,sequence in enumerate(sequences):\n",
    "    v_min =min_max[index][0]\n",
    "    v_max =min_max[index][1]\n",
    "    sequence_restored = (sequence) * (v_max - v_min) + v_min\n",
    "    original.append(sequence_restored)\n",
    "  return np.array(original)"
   ]
  },
  {
   "cell_type": "code",
   "execution_count": null,
   "metadata": {},
   "outputs": [],
   "source": [
    "\n",
    "def preprocess_window(df,feature:list,window_size:int,predict_size:int,sliding_size:int):\n",
    "  ticker_number =len(df['Ticker'].unique())\n",
    "  total_day = len(df['Date'].unique())\n",
    "  window_number =int(total_day - (window_size+predict_size)/sliding_size+1)\n",
    "  feature_size = len(feature)\n",
    "\n",
    "  sequences = list()\n",
    "  for group in df.groupby('Ticker'):\n",
    "    sequences.append(group[1][feature])\n",
    "  sequences=np.array(sequences)\n",
    "\n",
    "  ## min_max trading\n",
    "  price , trade,sentiments =np.split(sequences,[4,5],axis=2)\n",
    "  trade , min_max_trading =min_max(trade)\n",
    "  price , min_max_list =min_max(price)\n",
    "  combine =np.concatenate([price,trade,sentiments],axis =2)\n",
    "\n",
    "  ## min_max another\n",
    "  result_list= []\n",
    "  for i in range(0,window_number):\n",
    "    a, b, c= np.split(combine,[i,i+window_size+predict_size],axis=1)\n",
    "    result_list.append(b)\n",
    "  result_array = np.array(result_list)\n",
    "  train ,vaild = np.split(result_array,[-1],axis=0)\n",
    "  # train_x,train_y=np.split(train.reshape(total_day%(window_size+predict_size)*ticker_number,window_size+predict_size,feature_size),[window_size],axis=1)\n",
    "  train_x,train_y=np.split(train.reshape((window_number-1)*ticker_number,window_size+predict_size,feature_size),[window_size],axis=1)\n",
    "  vaild_x,vaild_y=np.split(vaild.reshape(1*ticker_number,window_size+predict_size,feature_size),[window_size],axis=1)\n",
    "  print(train_x.shape,train_y.shape,vaild_x.shape,vaild_y.shape,len(min_max_list))\n",
    "  return train_x,train_y,vaild_x,vaild_y,min_max_list\n"
   ]
  },
  {
   "cell_type": "code",
   "execution_count": 119,
   "metadata": {},
   "outputs": [],
   "source": [
    "import torch\n",
    "import numpy as np\n",
    "feature = [ 'Open', 'High','Low','Close', 'Volume']\n",
    "\n",
    "sequences = list()\n",
    "for group in data.groupby('Ticker'):\n",
    "    sequences.append(group[1][feature])\n",
    "sequences=np.array(sequences)"
   ]
  },
  {
   "cell_type": "code",
   "execution_count": 19,
   "metadata": {},
   "outputs": [],
   "source": [
    "price , trade,sentiments =np.split(sequences,[4,5],axis=2)\n",
    "trade , min_max_trading =min_max(trade)\n",
    "price , min_max_list =min_max(price)\n",
    "combine =np.concatenate([price,trade,sentiments],axis =2)"
   ]
  },
  {
   "cell_type": "code",
   "execution_count": null,
   "metadata": {},
   "outputs": [],
   "source": []
  },
  {
   "cell_type": "code",
   "execution_count": null,
   "metadata": {},
   "outputs": [],
   "source": [
    "def inverse_min_max(sequences,min_max):\n",
    "  original = []\n",
    "  for index,sequence in enumerate(sequences):\n",
    "    v_min =min_max[index][0]\n",
    "    v_max =min_max[index][1]\n",
    "    sequence_restored = (sequence) * (v_max - v_min) + v_min\n",
    "    original.append(sequence_restored)\n",
    "  return np.array(original)"
   ]
  },
  {
   "cell_type": "code",
   "execution_count": 67,
   "metadata": {},
   "outputs": [],
   "source": [
    "def inverse_min_max_gpu(sequences, min_max):\n",
    "    sequences_tensor = torch.tensor(sequences, dtype=torch.float32, device='cuda')\n",
    "    min_max_tensor = torch.tensor(min_max, dtype=torch.float32, device='cuda')\n",
    "    original = []\n",
    "    for index,sequence in enumerate(sequences_tensor):\n",
    "        v_min =min_max_tensor[index][0]\n",
    "        v_max =min_max_tensor[index][1]\n",
    "        sequence_restored = (sequence) * (v_max - v_min) + v_min\n",
    "        original.append(sequence_restored)\n",
    "    result =torch.stack(original)\n",
    "    return result"
   ]
  },
  {
   "cell_type": "code",
   "execution_count": 26,
   "metadata": {},
   "outputs": [
    {
     "data": {
      "text/plain": [
       "(2136, 755, 5)"
      ]
     },
     "execution_count": 26,
     "metadata": {},
     "output_type": "execute_result"
    }
   ],
   "source": [
    "sequences.shape"
   ]
  },
  {
   "cell_type": "code",
   "execution_count": 112,
   "metadata": {},
   "outputs": [],
   "source": [
    "\n",
    "def make_split(sequences,WINDOW_NUMBER,PREDICT_SIZE,WINDOW_SIZE,FEATURE_SIZE,TICKER_NUMBER):\n",
    "  original_list =[]\n",
    "  for i in range(0,WINDOW_NUMBER):\n",
    "    a, b, c= np.split(sequences,[i,i+WINDOW_SIZE+PREDICT_SIZE],axis=1)\n",
    "    original_list.append(b)\n",
    "  print(len(original_list))\n",
    "  result_array = np.array(original_list)\n",
    "  train ,vaild = np.split(result_array,[-1],axis=0)\n",
    "  train_x,train_y=np.split(train.reshape((WINDOW_NUMBER-1)*TICKER_NUMBER,WINDOW_SIZE+PREDICT_SIZE,FEATURE_SIZE),[WINDOW_SIZE],axis=1)\n",
    "  vaild_x,vaild_y=np.split(vaild.reshape(1*TICKER_NUMBER,WINDOW_SIZE+PREDICT_SIZE,FEATURE_SIZE),[WINDOW_SIZE],axis=1)\n",
    "  return train_x,train_y,vaild_x,vaild_y"
   ]
  },
  {
   "cell_type": "code",
   "execution_count": 120,
   "metadata": {},
   "outputs": [
    {
     "name": "stdout",
     "output_type": "stream",
     "text": [
      "651\n"
     ]
    }
   ],
   "source": [
    "train_x,train_y,vaild_x,vaild_y = make_split(sequences,window_number,predict_size,window_size,feature_size,ticker_number)"
   ]
  },
  {
   "cell_type": "code",
   "execution_count": 121,
   "metadata": {},
   "outputs": [
    {
     "data": {
      "text/plain": [
       "array([[[1.17999995e+00, 1.19000006e+00, 1.15999997e+00, 1.16999996e+00,\n",
       "         3.49000000e+04],\n",
       "        [1.17999995e+00, 1.25000000e+00, 1.17999995e+00, 1.21000004e+00,\n",
       "         1.90400000e+05],\n",
       "        [1.25999999e+00, 1.28999996e+00, 1.22000003e+00, 1.26999998e+00,\n",
       "         1.99200000e+05],\n",
       "        ...,\n",
       "        [4.19999981e+00, 4.75000000e+00, 4.19999981e+00, 4.36999989e+00,\n",
       "         2.15240000e+06],\n",
       "        [4.40999985e+00, 4.50000000e+00, 4.17000008e+00, 4.19000006e+00,\n",
       "         3.82300000e+05],\n",
       "        [4.15000010e+00, 4.28999996e+00, 4.07000017e+00, 4.19999981e+00,\n",
       "         1.32100000e+05]],\n",
       "\n",
       "       [[2.37000008e+01, 2.51849995e+01, 2.32500000e+01, 2.44500008e+01,\n",
       "         4.70070000e+04],\n",
       "        [2.46000004e+01, 2.47500000e+01, 2.25000000e+01, 2.29500008e+01,\n",
       "         5.03600000e+04],\n",
       "        [2.32500000e+01, 2.41499996e+01, 2.32199993e+01, 2.33999996e+01,\n",
       "         1.52730000e+04],\n",
       "        ...,\n",
       "        [1.97999992e+01, 2.06250000e+01, 1.90200005e+01, 1.93500004e+01,\n",
       "         6.70870000e+04],\n",
       "        [1.93500004e+01, 1.99500008e+01, 1.90499992e+01, 1.92000008e+01,\n",
       "         8.82600000e+04],\n",
       "        [1.95000000e+01, 2.03999996e+01, 1.87500000e+01, 1.95000000e+01,\n",
       "         6.18730000e+04]],\n",
       "\n",
       "       [[1.27500000e+01, 1.35799999e+01, 1.26899996e+01, 1.35600004e+01,\n",
       "         1.00764000e+08],\n",
       "        [1.43199997e+01, 1.49700003e+01, 1.40799999e+01, 1.48199997e+01,\n",
       "         1.56501000e+08],\n",
       "        [1.47700005e+01, 1.50799999e+01, 1.43699999e+01, 1.49399996e+01,\n",
       "         1.01052500e+08],\n",
       "        ...,\n",
       "        [2.40300007e+01, 2.41200008e+01, 2.36100006e+01, 2.38999996e+01,\n",
       "         2.98003000e+07],\n",
       "        [2.40200005e+01, 2.42299995e+01, 2.36499996e+01, 2.38600006e+01,\n",
       "         2.59562000e+07],\n",
       "        [2.44599991e+01, 2.48500004e+01, 2.41599998e+01, 2.42299995e+01,\n",
       "         3.36570000e+07]],\n",
       "\n",
       "       ...,\n",
       "\n",
       "       [[5.51999998e+00, 5.51999998e+00, 4.78999996e+00, 4.96999979e+00,\n",
       "         4.64400000e+05],\n",
       "        [5.01999998e+00, 5.05999994e+00, 4.86000013e+00, 4.98000002e+00,\n",
       "         2.45400000e+05],\n",
       "        [4.94000006e+00, 5.17000008e+00, 4.94000006e+00, 5.13999987e+00,\n",
       "         1.50400000e+05],\n",
       "        ...,\n",
       "        [4.50000000e+00, 4.55999994e+00, 4.30000019e+00, 4.34000015e+00,\n",
       "         1.21000000e+05],\n",
       "        [4.36999989e+00, 4.40000010e+00, 4.23099995e+00, 4.32999992e+00,\n",
       "         8.32000000e+04],\n",
       "        [4.30000019e+00, 4.60500002e+00, 4.30000019e+00, 4.48000002e+00,\n",
       "         1.25100000e+05]],\n",
       "\n",
       "       [[8.10000038e+00, 8.17500019e+00, 7.75000000e+00, 7.90000010e+00,\n",
       "         6.34800000e+05],\n",
       "        [7.86999989e+00, 8.32999992e+00, 7.82999992e+00, 8.18000031e+00,\n",
       "         5.85300000e+05],\n",
       "        [8.18000031e+00, 8.63000011e+00, 8.00000000e+00, 8.59000015e+00,\n",
       "         8.03900000e+05],\n",
       "        ...,\n",
       "        [6.75000000e+00, 6.75000000e+00, 6.51200008e+00, 6.65000010e+00,\n",
       "         4.93400000e+05],\n",
       "        [6.69000006e+00, 7.07000017e+00, 6.69000006e+00, 6.98999977e+00,\n",
       "         3.41000000e+05],\n",
       "        [6.92000008e+00, 7.17999983e+00, 6.78999996e+00, 7.01999998e+00,\n",
       "         7.77900000e+05]],\n",
       "\n",
       "       [[9.47000027e+00, 9.71000004e+00, 9.42000008e+00, 9.51000023e+00,\n",
       "         2.08000000e+05],\n",
       "        [9.50000000e+00, 9.72000027e+00, 9.46000004e+00, 9.60000038e+00,\n",
       "         1.79800000e+05],\n",
       "        [9.60999966e+00, 9.69999981e+00, 9.52000046e+00, 9.55000019e+00,\n",
       "         1.18400000e+05],\n",
       "        ...,\n",
       "        [8.00000000e+00, 8.44999981e+00, 7.76000023e+00, 8.34000015e+00,\n",
       "         9.38700000e+05],\n",
       "        [8.31999969e+00, 8.68999958e+00, 8.27999973e+00, 8.57999992e+00,\n",
       "         4.26500000e+05],\n",
       "        [9.00000000e+00, 9.14000034e+00, 8.48999977e+00, 8.88000011e+00,\n",
       "         5.51200000e+05]]])"
      ]
     },
     "execution_count": 121,
     "metadata": {},
     "output_type": "execute_result"
    }
   ],
   "source": [
    "train_x"
   ]
  },
  {
   "cell_type": "code",
   "execution_count": null,
   "metadata": {},
   "outputs": [],
   "source": [
    "train_x,train_y,vaild_x,vaild_y = make_split(combine,window_number,predict_size,window_size,feature_size,ticker_number)"
   ]
  },
  {
   "cell_type": "code",
   "execution_count": 1,
   "metadata": {},
   "outputs": [
    {
     "name": "stderr",
     "output_type": "stream",
     "text": [
      "/home/ssu36/anaconda3/envs/tiger/lib/python3.10/site-packages/tqdm/auto.py:21: TqdmWarning: IProgress not found. Please update jupyter and ipywidgets. See https://ipywidgets.readthedocs.io/en/stable/user_install.html\n",
      "  from .autonotebook import tqdm as notebook_tqdm\n"
     ]
    }
   ],
   "source": [
    "from data_processing import Window_maker\n",
    "import datasets\n",
    "import torch\n",
    "torch.tensor(original[0]).shape\n",
    "data= datasets.load_dataset('sehyun66/STOCKPRICE','NASDAQ_3y',split='train')\n",
    "data = data.to_pandas()\n",
    "window_size= 90\n",
    "predict_size= 15\n",
    "sliding_size=1\n",
    "window_maked = Window_maker(window_size,sliding_size,predict_size,data)\n"
   ]
  },
  {
   "cell_type": "code",
   "execution_count": 2,
   "metadata": {},
   "outputs": [
    {
     "name": "stdout",
     "output_type": "stream",
     "text": [
      "전처리 완료..\n"
     ]
    }
   ],
   "source": [
    "original, scaled ,min_max_list= window_maked.preprocess_window()"
   ]
  },
  {
   "cell_type": "code",
   "execution_count": 5,
   "metadata": {},
   "outputs": [
    {
     "ename": "IndexError",
     "evalue": "index 2136 is out of bounds for dimension 0 with size 2136",
     "output_type": "error",
     "traceback": [
      "\u001b[0;31m---------------------------------------------------------------------------\u001b[0m",
      "\u001b[0;31mIndexError\u001b[0m                                Traceback (most recent call last)",
      "\u001b[1;32m/home/ssu36/tiger/Stock_Prediction/data/data_downloader.ipynb Cell 17\u001b[0m line \u001b[0;36m1\n\u001b[0;32m----> <a href='vscode-notebook-cell://ssh-remote%2B203.253.25.176/home/ssu36/tiger/Stock_Prediction/data/data_downloader.ipynb#X44sdnNjb2RlLXJlbW90ZQ%3D%3D?line=0'>1</a>\u001b[0m result \u001b[39m=\u001b[39m Window_maker\u001b[39m.\u001b[39;49minverse_min_max(torch\u001b[39m.\u001b[39;49mtensor(original[\u001b[39m0\u001b[39;49m]),torch\u001b[39m.\u001b[39;49mtensor(min_max_list))\n",
      "File \u001b[0;32m~/tiger/Stock_Prediction/data/data_processing.py:38\u001b[0m, in \u001b[0;36mWindow_maker.inverse_min_max\u001b[0;34m(sequences, min_max)\u001b[0m\n\u001b[1;32m     36\u001b[0m original \u001b[39m=\u001b[39m []\n\u001b[1;32m     37\u001b[0m \u001b[39mfor\u001b[39;00m index, sequence \u001b[39min\u001b[39;00m \u001b[39menumerate\u001b[39m(sequences):\n\u001b[0;32m---> 38\u001b[0m   v_min \u001b[39m=\u001b[39m min_max[index][\u001b[39m0\u001b[39m]\n\u001b[1;32m     39\u001b[0m   v_max \u001b[39m=\u001b[39m min_max[index][\u001b[39m1\u001b[39m]\n\u001b[1;32m     40\u001b[0m   sequence_restored \u001b[39m=\u001b[39m (sequence) \u001b[39m*\u001b[39m (v_max \u001b[39m-\u001b[39m v_min) \u001b[39m+\u001b[39m v_min\n",
      "\u001b[0;31mIndexError\u001b[0m: index 2136 is out of bounds for dimension 0 with size 2136"
     ]
    }
   ],
   "source": [
    "result = Window_maker.inverse_min_max(torch.tensor(original[0]),torch.tensor(min_max_list))"
   ]
  },
  {
   "cell_type": "code",
   "execution_count": 11,
   "metadata": {},
   "outputs": [],
   "source": [
    "orginal5 = torch.reshape(torch.tensor(original[0]),(2136,650,90,5))"
   ]
  },
  {
   "cell_type": "code",
   "execution_count": 25,
   "metadata": {},
   "outputs": [
    {
     "data": {
      "text/plain": [
       "(1388400, 15, 5)"
      ]
     },
     "execution_count": 25,
     "metadata": {},
     "output_type": "execute_result"
    }
   ],
   "source": [
    "original[1].shape"
   ]
  },
  {
   "cell_type": "code",
   "execution_count": 10,
   "metadata": {},
   "outputs": [
    {
     "data": {
      "text/plain": [
       "torch.Size([1388400, 90, 5])"
      ]
     },
     "execution_count": 10,
     "metadata": {},
     "output_type": "execute_result"
    }
   ],
   "source": [
    "torch.tensor(original[0]).shape"
   ]
  },
  {
   "cell_type": "code",
   "execution_count": 4,
   "metadata": {},
   "outputs": [
    {
     "data": {
      "text/plain": [
       "torch.Size([1388400, 90, 5])"
      ]
     },
     "execution_count": 4,
     "metadata": {},
     "output_type": "execute_result"
    }
   ],
   "source": [
    "import torch\n",
    "torch.tensor(original[0]).shape"
   ]
  },
  {
   "cell_type": "code",
   "execution_count": null,
   "metadata": {},
   "outputs": [
    {
     "ename": "NameError",
     "evalue": "name 'datasets' is not defined",
     "output_type": "error",
     "traceback": [
      "\u001b[0;31m---------------------------------------------------------------------------\u001b[0m\n",
      "\u001b[0;31mNameError\u001b[0m                                 Traceback (most recent call last)\n",
      "\u001b[1;32m/home/ssu36/tiger/Stock_Prediction/models/TimeSeries/TCN/TCN_test.ipynb Cell 9\u001b[0m line \u001b[0;36m1\n",
      "\u001b[1;32m     <a href='vscode-notebook-cell://ssh-remote%2B203.253.25.176/home/ssu36/tiger/Stock_Prediction/models/TimeSeries/TCN/TCN_test.ipynb#W4sdnNjb2RlLXJlbW90ZQ%3D%3D?line=10'>11</a>\u001b[0m TOTAL_DAY \u001b[39m=\u001b[39m \u001b[39m755\u001b[39m\n",
      "\u001b[1;32m     <a href='vscode-notebook-cell://ssh-remote%2B203.253.25.176/home/ssu36/tiger/Stock_Prediction/models/TimeSeries/TCN/TCN_test.ipynb#W4sdnNjb2RlLXJlbW90ZQ%3D%3D?line=11'>12</a>\u001b[0m WINDOW_NUMBER \u001b[39m=\u001b[39m\u001b[39mint\u001b[39m(TOTAL_DAY \u001b[39m-\u001b[39m (WINDOW_SIZE\u001b[39m+\u001b[39mPREDICT_SIZE)\u001b[39m/\u001b[39mSLIDING_SIZE\u001b[39m+\u001b[39m\u001b[39m1\u001b[39m)\n",
      "\u001b[0;32m---> <a href='vscode-notebook-cell://ssh-remote%2B203.253.25.176/home/ssu36/tiger/Stock_Prediction/models/TimeSeries/TCN/TCN_test.ipynb#W4sdnNjb2RlLXJlbW90ZQ%3D%3D?line=15'>16</a>\u001b[0m data\u001b[39m=\u001b[39m datasets\u001b[39m.\u001b[39mload_dataset(\u001b[39m'\u001b[39m\u001b[39msehyun66/STOCKPRICE\u001b[39m\u001b[39m'\u001b[39m,\u001b[39m'\u001b[39m\u001b[39mNASDAQ_3y\u001b[39m\u001b[39m'\u001b[39m)\n",
      "\u001b[1;32m     <a href='vscode-notebook-cell://ssh-remote%2B203.253.25.176/home/ssu36/tiger/Stock_Prediction/models/TimeSeries/TCN/TCN_test.ipynb#W4sdnNjb2RlLXJlbW90ZQ%3D%3D?line=16'>17</a>\u001b[0m data \u001b[39m=\u001b[39m data[\u001b[39m'\u001b[39m\u001b[39mtrain\u001b[39m\u001b[39m'\u001b[39m]\u001b[39m.\u001b[39mto_pandas()\n",
      "\u001b[1;32m     <a href='vscode-notebook-cell://ssh-remote%2B203.253.25.176/home/ssu36/tiger/Stock_Prediction/models/TimeSeries/TCN/TCN_test.ipynb#W4sdnNjb2RlLXJlbW90ZQ%3D%3D?line=19'>20</a>\u001b[0m \u001b[39mdef\u001b[39;00m \u001b[39mmin_max\u001b[39m(sequences):\n",
      "\n",
      "\u001b[0;31mNameError\u001b[0m: name 'datasets' is not defined"
     ]
    }
   ],
   "source": [
    "\n",
    "\n",
    "SUFFLE = False\n",
    "WINDOW_SIZE  = 90\n",
    "PREDICT_SIZE = 15\n",
    "SLIDING_SIZE =1\n",
    "FEATURE_SIZE = 5\n",
    "BATCH_SIZE =64\n",
    "FULLLY_SIZE =128\n",
    "FEATURE = [ 'Open', 'High','Low','Close', 'Volume']\n",
    "TARGET = 'Close'\n",
    "TICKER_NUMBER =2136\n",
    "TOTAL_DAY = 755\n",
    "WINDOW_NUMBER =int(TOTAL_DAY - (WINDOW_SIZE+PREDICT_SIZE)/SLIDING_SIZE+1)\n",
    "\n",
    "\n",
    "\n",
    "data= datasets.load_dataset('sehyun66/STOCKPRICE','NASDAQ_3y')\n",
    "data = data['train'].to_pandas()\n",
    "\n",
    "\n",
    "def min_max(sequences):\n",
    "  results = sequences.copy()\n",
    "  v_min =results.min()\n",
    "  v_max =results.max()\n",
    "  new_min =0\n",
    "  new_max =1\n",
    "  min_max=[]\n",
    "  for index,sequence in enumerate(results):\n",
    "    v_min =sequence.min()\n",
    "    v_max =sequence.max()\n",
    "    v_p = (sequence - v_min)/(v_max - v_min)*(new_max - new_min) + new_min\n",
    "    min_max.append([v_min,v_max])\n",
    "    results[index] = v_p\n",
    "  return results, min_max\n",
    "\n",
    "def inverse_min_max(sequences,min_max):\n",
    "  original = []\n",
    "  for index,sequence in enumerate(sequences):\n",
    "    v_min =min_max[index][0]\n",
    "    v_max =min_max[index][1]\n",
    "    sequence_restored = (sequence) * (v_max - v_min) + v_min\n",
    "    original.append(sequence_restored)\n",
    "  return np.array(original)\n",
    "\n",
    "def preprocess_lstm(df):\n",
    "  sequences = list()\n",
    "  for group in df.groupby('Ticker'):\n",
    "    sequences.append(group[1][FEATURE])\n",
    "  sequences=np.array(sequences)\n",
    "\n",
    "  ## min_max trading\n",
    "  price , trade,sentiments =np.split(sequences,[4,5],axis=2)\n",
    "  trade , min_max_trading =min_max(trade)\n",
    "  price , min_max_list =min_max(price)\n",
    "  combine =np.concatenate([price,trade,sentiments],axis =2)\n",
    "\n",
    "  ## min_max another\n",
    "  result_list= []\n",
    "  for i in range(0,WINDOW_NUMBER):\n",
    "    a, b, c= np.split(combine,[i,i+WINDOW_SIZE+PREDICT_SIZE],axis=1)\n",
    "    result_list.append(b)\n",
    "  result_array = np.array(result_list)\n",
    "  print(166//(WINDOW_SIZE+PREDICT_SIZE))\n",
    "  # train ,vaild = np.split(result_array,[TOTAL_DAY%(WINDOW_SIZE+PREDICT_SIZE)],axis=0)\n",
    "  train ,vaild = np.split(result_array,[-1],axis=0)\n",
    "\n",
    "  print(train.shape ,vaild.shape)\n",
    "  # train_x,train_y=np.split(train.reshape(TOTAL_DAY%(WINDOW_SIZE+PREDICT_SIZE)*TICKER_NUMBER,WINDOW_SIZE+PREDICT_SIZE,FEATURE_SIZE),[WINDOW_SIZE],axis=1)\n",
    "  train_x,train_y=np.split(train.reshape((WINDOW_NUMBER-1)*TICKER_NUMBER,WINDOW_SIZE+PREDICT_SIZE,FEATURE_SIZE),[WINDOW_SIZE],axis=1)\n",
    "  vaild_x,vaild_y=np.split(vaild.reshape(1*TICKER_NUMBER,WINDOW_SIZE+PREDICT_SIZE,FEATURE_SIZE),[WINDOW_SIZE],axis=1)\n",
    "  return train_x,train_y,vaild_x,vaild_y,min_max_list\n",
    "\n",
    "\n",
    "\n",
    "class BaseDataset(Dataset):\n",
    "    def __init__(self, x_data, y_data, target):\n",
    "        self.x_data = torch.tensor(x_data,dtype =torch.float32)\n",
    "        self.y_data = torch.tensor(y_data[:,FEATURE.index(target),:],dtype = torch.float32)\n",
    "\n",
    "    def __getitem__(self, index):\n",
    "        return self.x_data[index], self.y_data[index]\n",
    "\n",
    "    def __len__(self):\n",
    "        return self.x_data.shape[0]\n",
    "train_x,train_y,vaild_x,vaild_y,min_max_list = preprocess_lstm(data)\n",
    "\n",
    "def swap_axes(arr):\n",
    "    return np.swapaxes(arr, 1, 2)\n",
    "train_x = swap_axes(train_x)\n",
    "train_y = swap_axes(train_y)\n",
    "vaild_x = swap_axes(vaild_x)\n",
    "vaild_y = swap_axes(vaild_y)\n",
    "train_data = BaseDataset(train_x,train_y,TARGET)\n",
    "test_data =  BaseDataset(vaild_x,vaild_y,TARGET)\n",
    "train_dataloader = DataLoader(train_data, batch_size=BATCH_SIZE, shuffle=False,drop_last=True)\n",
    "test_dataloader = DataLoader(test_data, batch_size=BATCH_SIZE, shuffle=False,drop_last=True)\n",
    "train_x.shape,train_y.shape,vaild_x.shape,vaild_y.shape,len(min_max_list)\n",
    "\n",
    "\n",
    "\n"
   ]
  },
  {
   "cell_type": "code",
   "execution_count": 4,
   "metadata": {},
   "outputs": [
    {
     "data": {
      "text/plain": [
       "2136"
      ]
     },
     "execution_count": 4,
     "metadata": {},
     "output_type": "execute_result"
    }
   ],
   "source": [
    "len(min_max_list)"
   ]
  },
  {
   "cell_type": "code",
   "execution_count": 3,
   "metadata": {},
   "outputs": [
    {
     "data": {
      "text/plain": [
       "array([[[1.17999995e+00, 1.19000006e+00, 1.15999997e+00, 1.16999996e+00,\n",
       "         3.49000000e+04],\n",
       "        [1.17999995e+00, 1.25000000e+00, 1.17999995e+00, 1.21000004e+00,\n",
       "         1.90400000e+05],\n",
       "        [1.25999999e+00, 1.28999996e+00, 1.22000003e+00, 1.26999998e+00,\n",
       "         1.99200000e+05],\n",
       "        ...,\n",
       "        [4.19999981e+00, 4.75000000e+00, 4.19999981e+00, 4.36999989e+00,\n",
       "         2.15240000e+06],\n",
       "        [4.40999985e+00, 4.50000000e+00, 4.17000008e+00, 4.19000006e+00,\n",
       "         3.82300000e+05],\n",
       "        [4.15000010e+00, 4.28999996e+00, 4.07000017e+00, 4.19999981e+00,\n",
       "         1.32100000e+05]],\n",
       "\n",
       "       [[2.37000008e+01, 2.51849995e+01, 2.32500000e+01, 2.44500008e+01,\n",
       "         4.70070000e+04],\n",
       "        [2.46000004e+01, 2.47500000e+01, 2.25000000e+01, 2.29500008e+01,\n",
       "         5.03600000e+04],\n",
       "        [2.32500000e+01, 2.41499996e+01, 2.32199993e+01, 2.33999996e+01,\n",
       "         1.52730000e+04],\n",
       "        ...,\n",
       "        [1.97999992e+01, 2.06250000e+01, 1.90200005e+01, 1.93500004e+01,\n",
       "         6.70870000e+04],\n",
       "        [1.93500004e+01, 1.99500008e+01, 1.90499992e+01, 1.92000008e+01,\n",
       "         8.82600000e+04],\n",
       "        [1.95000000e+01, 2.03999996e+01, 1.87500000e+01, 1.95000000e+01,\n",
       "         6.18730000e+04]],\n",
       "\n",
       "       [[1.27500000e+01, 1.35799999e+01, 1.26899996e+01, 1.35600004e+01,\n",
       "         1.00764000e+08],\n",
       "        [1.43199997e+01, 1.49700003e+01, 1.40799999e+01, 1.48199997e+01,\n",
       "         1.56501000e+08],\n",
       "        [1.47700005e+01, 1.50799999e+01, 1.43699999e+01, 1.49399996e+01,\n",
       "         1.01052500e+08],\n",
       "        ...,\n",
       "        [2.40300007e+01, 2.41200008e+01, 2.36100006e+01, 2.38999996e+01,\n",
       "         2.98003000e+07],\n",
       "        [2.40200005e+01, 2.42299995e+01, 2.36499996e+01, 2.38600006e+01,\n",
       "         2.59562000e+07],\n",
       "        [2.44599991e+01, 2.48500004e+01, 2.41599998e+01, 2.42299995e+01,\n",
       "         3.36570000e+07]],\n",
       "\n",
       "       ...,\n",
       "\n",
       "       [[5.51999998e+00, 5.51999998e+00, 4.78999996e+00, 4.96999979e+00,\n",
       "         4.64400000e+05],\n",
       "        [5.01999998e+00, 5.05999994e+00, 4.86000013e+00, 4.98000002e+00,\n",
       "         2.45400000e+05],\n",
       "        [4.94000006e+00, 5.17000008e+00, 4.94000006e+00, 5.13999987e+00,\n",
       "         1.50400000e+05],\n",
       "        ...,\n",
       "        [4.50000000e+00, 4.55999994e+00, 4.30000019e+00, 4.34000015e+00,\n",
       "         1.21000000e+05],\n",
       "        [4.36999989e+00, 4.40000010e+00, 4.23099995e+00, 4.32999992e+00,\n",
       "         8.32000000e+04],\n",
       "        [4.30000019e+00, 4.60500002e+00, 4.30000019e+00, 4.48000002e+00,\n",
       "         1.25100000e+05]],\n",
       "\n",
       "       [[8.10000038e+00, 8.17500019e+00, 7.75000000e+00, 7.90000010e+00,\n",
       "         6.34800000e+05],\n",
       "        [7.86999989e+00, 8.32999992e+00, 7.82999992e+00, 8.18000031e+00,\n",
       "         5.85300000e+05],\n",
       "        [8.18000031e+00, 8.63000011e+00, 8.00000000e+00, 8.59000015e+00,\n",
       "         8.03900000e+05],\n",
       "        ...,\n",
       "        [6.75000000e+00, 6.75000000e+00, 6.51200008e+00, 6.65000010e+00,\n",
       "         4.93400000e+05],\n",
       "        [6.69000006e+00, 7.07000017e+00, 6.69000006e+00, 6.98999977e+00,\n",
       "         3.41000000e+05],\n",
       "        [6.92000008e+00, 7.17999983e+00, 6.78999996e+00, 7.01999998e+00,\n",
       "         7.77900000e+05]],\n",
       "\n",
       "       [[9.47000027e+00, 9.71000004e+00, 9.42000008e+00, 9.51000023e+00,\n",
       "         2.08000000e+05],\n",
       "        [9.50000000e+00, 9.72000027e+00, 9.46000004e+00, 9.60000038e+00,\n",
       "         1.79800000e+05],\n",
       "        [9.60999966e+00, 9.69999981e+00, 9.52000046e+00, 9.55000019e+00,\n",
       "         1.18400000e+05],\n",
       "        ...,\n",
       "        [8.00000000e+00, 8.44999981e+00, 7.76000023e+00, 8.34000015e+00,\n",
       "         9.38700000e+05],\n",
       "        [8.31999969e+00, 8.68999958e+00, 8.27999973e+00, 8.57999992e+00,\n",
       "         4.26500000e+05],\n",
       "        [9.00000000e+00, 9.14000034e+00, 8.48999977e+00, 8.88000011e+00,\n",
       "         5.51200000e+05]]])"
      ]
     },
     "execution_count": 3,
     "metadata": {},
     "output_type": "execute_result"
    }
   ],
   "source": [
    "original[0]"
   ]
  },
  {
   "cell_type": "code",
   "execution_count": 4,
   "metadata": {},
   "outputs": [
    {
     "data": {
      "text/plain": [
       "array([[[2.00527671e-02, 2.05804773e-02, 1.89973591e-02, 1.95250631e-02,\n",
       "         1.08915286e-04],\n",
       "        [2.00527671e-02, 2.37467012e-02, 2.00527671e-02, 2.16358853e-02,\n",
       "         6.01250373e-04],\n",
       "        [2.42744052e-02, 2.58575172e-02, 2.21635893e-02, 2.48021092e-02,\n",
       "         6.29112423e-04],\n",
       "        ...,\n",
       "        [1.79419514e-01, 2.08443271e-01, 1.79419514e-01, 1.88390495e-01,\n",
       "         6.81322105e-03],\n",
       "        [1.90501311e-01, 1.95250659e-01, 1.77836415e-01, 1.78891823e-01,\n",
       "         1.20883303e-03],\n",
       "        [1.76781007e-01, 1.84168863e-01, 1.72559375e-01, 1.79419514e-01,\n",
       "         4.16664292e-04]],\n",
       "\n",
       "       [[4.31620231e-01, 4.63959054e-01, 4.21820563e-01, 4.47952984e-01,\n",
       "         2.07224966e-03],\n",
       "        [4.51219527e-01, 4.54486069e-01, 4.05487810e-01, 4.15287479e-01,\n",
       "         2.27700752e-03],\n",
       "        [4.21820563e-01, 4.41419858e-01, 4.21167238e-01, 4.25087105e-01,\n",
       "         1.34347535e-04],\n",
       "        ...,\n",
       "        [3.46689883e-01, 3.64655928e-01, 3.29703847e-01, 3.36890256e-01,\n",
       "         3.29847625e-03],\n",
       "        [3.36890256e-01, 3.49956467e-01, 3.30357130e-01, 3.33623714e-01,\n",
       "         4.59144915e-03],\n",
       "        [3.40156798e-01, 3.59756094e-01, 3.23824046e-01, 3.40156798e-01,\n",
       "         2.98007260e-03]],\n",
       "\n",
       "       [[1.24097195e-01, 1.78594890e-01, 1.20157575e-01, 1.77281725e-01,\n",
       "         2.93377509e-01],\n",
       "        [2.27183186e-01, 2.69862146e-01, 2.11424830e-01, 2.60013126e-01,\n",
       "         4.73346298e-01],\n",
       "        [2.56730182e-01, 2.77084710e-01, 2.30466193e-01, 2.67892304e-01,\n",
       "         2.94309044e-01],\n",
       "        ...,\n",
       "        [8.64740683e-01, 8.70650082e-01, 8.37163528e-01, 8.56204828e-01,\n",
       "         6.42433397e-02],\n",
       "        [8.64084069e-01, 8.77872584e-01, 8.39789859e-01, 8.53578498e-01,\n",
       "         5.18311535e-02],\n",
       "        [8.92974326e-01, 9.18581764e-01, 8.73276412e-01, 8.77872584e-01,\n",
       "         7.66962100e-02]],\n",
       "\n",
       "       ...,\n",
       "\n",
       "       [[8.96096697e-02, 8.96096697e-02, 4.94777276e-02, 5.93732653e-02,\n",
       "         7.84300480e-03],\n",
       "        [6.21220389e-02, 6.43210473e-02, 5.33260054e-02, 5.99230305e-02,\n",
       "         4.14443018e-03],\n",
       "        [5.77240221e-02, 7.03683334e-02, 5.77240221e-02, 6.87190640e-02,\n",
       "         2.54002567e-03],\n",
       "        ...,\n",
       "        [3.35349039e-02, 3.68334164e-02, 2.25398620e-02, 2.47388704e-02,\n",
       "         2.04350469e-03],\n",
       "        [2.63881135e-02, 2.80373829e-02, 1.87465555e-02, 2.41891052e-02,\n",
       "         1.40512058e-03],\n",
       "        [2.25398620e-02, 3.93073074e-02, 2.25398620e-02, 3.24353997e-02,\n",
       "         2.11274742e-03]],\n",
       "\n",
       "       [[7.26511352e-02, 7.40167545e-02, 6.62782221e-02, 6.90094693e-02,\n",
       "         1.52014091e-02],\n",
       "        [6.84632164e-02, 7.68390367e-02, 6.77348850e-02, 7.41077981e-02,\n",
       "         1.38475592e-02],\n",
       "        [7.41077981e-02, 8.23015312e-02, 7.08302979e-02, 8.15731997e-02,\n",
       "         1.98263790e-02],\n",
       "        ...,\n",
       "        [4.80699186e-02, 4.80699186e-02, 4.37363439e-02, 4.62490900e-02,\n",
       "         1.13340481e-02],\n",
       "        [4.69774215e-02, 5.38965789e-02, 4.69774215e-02, 5.24399073e-02,\n",
       "         7.16583156e-03],\n",
       "        [5.11653316e-02, 5.58994860e-02, 4.87982501e-02, 5.29861602e-02,\n",
       "         1.91152660e-02]],\n",
       "\n",
       "       [[2.84107229e-01, 2.99259599e-01, 2.80950470e-01, 2.86632624e-01,\n",
       "         3.50923483e-02],\n",
       "        [2.86001260e-01, 2.99890962e-01, 2.83475865e-01, 2.92314778e-01,\n",
       "         2.88918206e-02],\n",
       "        [2.92946081e-01, 2.98628235e-01, 2.87263988e-01, 2.89158019e-01,\n",
       "         1.53913808e-02],\n",
       "        ...,\n",
       "        [1.91298861e-01, 2.19709568e-01, 1.76146491e-01, 2.12764747e-01,\n",
       "         1.95756376e-01],\n",
       "        [2.11502020e-01, 2.34861938e-01, 2.08976625e-01, 2.27917117e-01,\n",
       "         8.31354442e-02],\n",
       "        [2.54433794e-01, 2.63272706e-01, 2.22234963e-01, 2.46857609e-01,\n",
       "         1.10554090e-01]]])"
      ]
     },
     "execution_count": 4,
     "metadata": {},
     "output_type": "execute_result"
    }
   ],
   "source": [
    "scaled[0]"
   ]
  },
  {
   "cell_type": "code",
   "execution_count": 117,
   "metadata": {},
   "outputs": [
    {
     "data": {
      "text/plain": [
       "tensor([[[ 1.1800,  1.1900,  1.1600,  1.1700,  0.8021],\n",
       "         [ 1.1800,  1.2500,  1.1800,  1.2100,  0.8114],\n",
       "         [ 1.2600,  1.2900,  1.2200,  1.2700,  0.8119],\n",
       "         ...,\n",
       "         [ 0.9300,  0.9300,  0.8700,  0.9100,  0.8001],\n",
       "         [ 0.9800,  0.9800,  0.9100,  0.9100,  0.8000],\n",
       "         [ 0.9500,  0.9700,  0.8700,  0.9300,  0.8001]],\n",
       "\n",
       "        [[23.7000, 25.1850, 23.2500, 24.4500,  3.9752],\n",
       "         [24.6000, 24.7500, 22.5000, 22.9500,  3.9846],\n",
       "         [23.2500, 24.1500, 23.2200, 23.4000,  3.8862],\n",
       "         ...,\n",
       "         [ 4.9000,  4.9000,  4.7000,  4.7500,  4.0093],\n",
       "         [ 4.7500,  4.8400,  4.6800,  4.6800,  3.9774],\n",
       "         [ 4.7300,  4.8000,  4.6900,  4.7500,  3.9880]],\n",
       "\n",
       "        [[12.7500, 13.5800, 12.6900, 13.5600, 15.3281],\n",
       "         [14.3200, 14.9700, 14.0800, 14.8200, 18.0691],\n",
       "         [14.7700, 15.0800, 14.3700, 14.9400, 15.3423],\n",
       "         ...,\n",
       "         [12.2300, 12.4500, 12.1700, 12.4000, 11.5472],\n",
       "         [12.3000, 12.3300, 12.0500, 12.1300, 11.5777],\n",
       "         [12.3700, 12.7700, 12.1700, 12.3100, 12.3861]],\n",
       "\n",
       "        ...,\n",
       "\n",
       "        [[14.4000, 17.3600, 14.4000, 16.9600,  3.9214],\n",
       "         [18.4000, 22.0800, 16.4800, 17.9200,  3.9281],\n",
       "         [18.8800, 20.1600, 16.4800, 17.5520,  3.9097],\n",
       "         ...,\n",
       "         [ 4.4000,  4.5000,  4.3000,  4.4800,  3.9685],\n",
       "         [ 4.4800,  4.6000,  4.4400,  4.5100,  3.9551],\n",
       "         [ 4.4000,  4.6000,  4.4000,  4.4400,  3.9527]],\n",
       "\n",
       "        [[47.1700, 48.4300, 45.3000, 46.6000,  4.9528],\n",
       "         [46.7900, 48.7660, 45.4000, 47.7600,  4.6779],\n",
       "         [48.0900, 48.9900, 47.6020, 48.5500,  4.6123],\n",
       "         ...,\n",
       "         [ 8.1900,  8.4700,  8.1900,  8.3600,  4.4989],\n",
       "         [ 8.2900,  8.3700,  8.1800,  8.2200,  4.3328],\n",
       "         [ 8.2700,  8.3500,  8.1820,  8.3400,  4.2622]],\n",
       "\n",
       "        [[12.2727, 12.4273, 11.9818, 12.3818,  6.0986],\n",
       "         [12.3818, 12.6909, 12.1364, 12.2182,  6.4081],\n",
       "         [12.1909, 12.3636, 11.9636, 12.2000,  5.9909],\n",
       "         ...,\n",
       "         [ 8.5900,  9.0300,  8.4600,  8.9900,  6.6176],\n",
       "         [ 8.9900,  9.0900,  8.8400,  8.9400,  5.8758],\n",
       "         [ 8.9200,  9.1500,  8.9200,  9.0800,  5.4234]]], device='cuda:0')"
      ]
     },
     "execution_count": 117,
     "metadata": {},
     "output_type": "execute_result"
    }
   ],
   "source": [
    "result"
   ]
  },
  {
   "cell_type": "code",
   "execution_count": 114,
   "metadata": {},
   "outputs": [
    {
     "data": {
      "text/plain": [
       "array([[[2.00527671e-02, 2.05804773e-02, 1.89973591e-02, 1.95250631e-02,\n",
       "         1.08915286e-04],\n",
       "        [2.00527671e-02, 2.37467012e-02, 2.00527671e-02, 2.16358853e-02,\n",
       "         6.01250373e-04],\n",
       "        [2.42744052e-02, 2.58575172e-02, 2.21635893e-02, 2.48021092e-02,\n",
       "         6.29112423e-04],\n",
       "        ...,\n",
       "        [1.79419514e-01, 2.08443271e-01, 1.79419514e-01, 1.88390495e-01,\n",
       "         6.81322105e-03],\n",
       "        [1.90501311e-01, 1.95250659e-01, 1.77836415e-01, 1.78891823e-01,\n",
       "         1.20883303e-03],\n",
       "        [1.76781007e-01, 1.84168863e-01, 1.72559375e-01, 1.79419514e-01,\n",
       "         4.16664292e-04]],\n",
       "\n",
       "       [[4.31620231e-01, 4.63959054e-01, 4.21820563e-01, 4.47952984e-01,\n",
       "         2.07224966e-03],\n",
       "        [4.51219527e-01, 4.54486069e-01, 4.05487810e-01, 4.15287479e-01,\n",
       "         2.27700752e-03],\n",
       "        [4.21820563e-01, 4.41419858e-01, 4.21167238e-01, 4.25087105e-01,\n",
       "         1.34347535e-04],\n",
       "        ...,\n",
       "        [3.46689883e-01, 3.64655928e-01, 3.29703847e-01, 3.36890256e-01,\n",
       "         3.29847625e-03],\n",
       "        [3.36890256e-01, 3.49956467e-01, 3.30357130e-01, 3.33623714e-01,\n",
       "         4.59144915e-03],\n",
       "        [3.40156798e-01, 3.59756094e-01, 3.23824046e-01, 3.40156798e-01,\n",
       "         2.98007260e-03]],\n",
       "\n",
       "       [[1.24097195e-01, 1.78594890e-01, 1.20157575e-01, 1.77281725e-01,\n",
       "         2.93377509e-01],\n",
       "        [2.27183186e-01, 2.69862146e-01, 2.11424830e-01, 2.60013126e-01,\n",
       "         4.73346298e-01],\n",
       "        [2.56730182e-01, 2.77084710e-01, 2.30466193e-01, 2.67892304e-01,\n",
       "         2.94309044e-01],\n",
       "        ...,\n",
       "        [8.64740683e-01, 8.70650082e-01, 8.37163528e-01, 8.56204828e-01,\n",
       "         6.42433397e-02],\n",
       "        [8.64084069e-01, 8.77872584e-01, 8.39789859e-01, 8.53578498e-01,\n",
       "         5.18311535e-02],\n",
       "        [8.92974326e-01, 9.18581764e-01, 8.73276412e-01, 8.77872584e-01,\n",
       "         7.66962100e-02]],\n",
       "\n",
       "       ...,\n",
       "\n",
       "       [[8.96096697e-02, 8.96096697e-02, 4.94777276e-02, 5.93732653e-02,\n",
       "         7.84300480e-03],\n",
       "        [6.21220389e-02, 6.43210473e-02, 5.33260054e-02, 5.99230305e-02,\n",
       "         4.14443018e-03],\n",
       "        [5.77240221e-02, 7.03683334e-02, 5.77240221e-02, 6.87190640e-02,\n",
       "         2.54002567e-03],\n",
       "        ...,\n",
       "        [3.35349039e-02, 3.68334164e-02, 2.25398620e-02, 2.47388704e-02,\n",
       "         2.04350469e-03],\n",
       "        [2.63881135e-02, 2.80373829e-02, 1.87465555e-02, 2.41891052e-02,\n",
       "         1.40512058e-03],\n",
       "        [2.25398620e-02, 3.93073074e-02, 2.25398620e-02, 3.24353997e-02,\n",
       "         2.11274742e-03]],\n",
       "\n",
       "       [[7.26511352e-02, 7.40167545e-02, 6.62782221e-02, 6.90094693e-02,\n",
       "         1.52014091e-02],\n",
       "        [6.84632164e-02, 7.68390367e-02, 6.77348850e-02, 7.41077981e-02,\n",
       "         1.38475592e-02],\n",
       "        [7.41077981e-02, 8.23015312e-02, 7.08302979e-02, 8.15731997e-02,\n",
       "         1.98263790e-02],\n",
       "        ...,\n",
       "        [4.80699186e-02, 4.80699186e-02, 4.37363439e-02, 4.62490900e-02,\n",
       "         1.13340481e-02],\n",
       "        [4.69774215e-02, 5.38965789e-02, 4.69774215e-02, 5.24399073e-02,\n",
       "         7.16583156e-03],\n",
       "        [5.11653316e-02, 5.58994860e-02, 4.87982501e-02, 5.29861602e-02,\n",
       "         1.91152660e-02]],\n",
       "\n",
       "       [[2.84107229e-01, 2.99259599e-01, 2.80950470e-01, 2.86632624e-01,\n",
       "         3.50923483e-02],\n",
       "        [2.86001260e-01, 2.99890962e-01, 2.83475865e-01, 2.92314778e-01,\n",
       "         2.88918206e-02],\n",
       "        [2.92946081e-01, 2.98628235e-01, 2.87263988e-01, 2.89158019e-01,\n",
       "         1.53913808e-02],\n",
       "        ...,\n",
       "        [1.91298861e-01, 2.19709568e-01, 1.76146491e-01, 2.12764747e-01,\n",
       "         1.95756376e-01],\n",
       "        [2.11502020e-01, 2.34861938e-01, 2.08976625e-01, 2.27917117e-01,\n",
       "         8.31354442e-02],\n",
       "        [2.54433794e-01, 2.63272706e-01, 2.22234963e-01, 2.46857609e-01,\n",
       "         1.10554090e-01]]])"
      ]
     },
     "execution_count": 114,
     "metadata": {},
     "output_type": "execute_result"
    }
   ],
   "source": [
    "train_x"
   ]
  },
  {
   "cell_type": "code",
   "execution_count": null,
   "metadata": {},
   "outputs": [],
   "source": [
    "class Inline(admin.TabularInline):\n",
    "  '''Tabular Inline View for '''\n",
    "\n",
    "  model =\n",
    "  min_num = 3\n",
    "  max_num = 20\n",
    "  extra = 1\n",
    "  raw_id_fields = (,)"
   ]
  },
  {
   "cell_type": "code",
   "execution_count": 105,
   "metadata": {},
   "outputs": [],
   "source": [
    "sliding_size = 1\n",
    "predict_size = 15\n",
    "window_size = 90\n",
    "ticker_number =len(data['Ticker'].unique())\n",
    "total_day = len(data['Date'].unique())\n",
    "window_number =int(total_day - (window_size+predict_size)/sliding_size+1)\n",
    "feature_size = len(feature)"
   ]
  },
  {
   "cell_type": "code",
   "execution_count": 109,
   "metadata": {},
   "outputs": [
    {
     "data": {
      "text/plain": [
       "5"
      ]
     },
     "execution_count": 109,
     "metadata": {},
     "output_type": "execute_result"
    }
   ],
   "source": [
    "feature_size"
   ]
  },
  {
   "cell_type": "code",
   "execution_count": 79,
   "metadata": {},
   "outputs": [
    {
     "data": {
      "text/plain": [
       "1.1004127264022827"
      ]
     },
     "execution_count": 79,
     "metadata": {},
     "output_type": "execute_result"
    }
   ],
   "source": [
    "result[0,0,:].mean().item()"
   ]
  },
  {
   "cell_type": "code",
   "execution_count": 59,
   "metadata": {},
   "outputs": [
    {
     "data": {
      "text/plain": [
       "array([[1.17999995, 1.19000006, 1.15999997, 1.16999996, 0.80206396],\n",
       "       [1.17999995, 1.25      , 1.17999995, 1.21000004, 0.81139371],\n",
       "       [1.25999999, 1.28999996, 1.22000003, 1.26999998, 0.81192169],\n",
       "       ...,\n",
       "       [0.93000001, 0.93000001, 0.87      , 0.91000003, 0.80013801],\n",
       "       [0.98000002, 0.98000002, 0.91000003, 0.91000003, 0.80002401],\n",
       "       [0.94999999, 0.97000003, 0.87      , 0.93000001, 0.80012001]])"
      ]
     },
     "execution_count": 59,
     "metadata": {},
     "output_type": "execute_result"
    }
   ],
   "source": [
    "result_cpu[0]"
   ]
  },
  {
   "cell_type": "code",
   "execution_count": 60,
   "metadata": {},
   "outputs": [
    {
     "data": {
      "text/plain": [
       "tensor([[1.1800, 1.1900, 1.1600, 1.1700, 0.8021],\n",
       "        [1.1800, 1.2500, 1.1800, 1.2100, 0.8114],\n",
       "        [1.2600, 1.2900, 1.2200, 1.2700, 0.8119],\n",
       "        ...,\n",
       "        [0.9300, 0.9300, 0.8700, 0.9100, 0.8001],\n",
       "        [0.9800, 0.9800, 0.9100, 0.9100, 0.8000],\n",
       "        [0.9500, 0.9700, 0.8700, 0.9300, 0.8001]], device='cuda:0')"
      ]
     },
     "execution_count": 60,
     "metadata": {},
     "output_type": "execute_result"
    }
   ],
   "source": [
    "result[0]"
   ]
  },
  {
   "cell_type": "code",
   "execution_count": 55,
   "metadata": {},
   "outputs": [],
   "source": [
    "result_cpu =inverse_min_max(combine,min_max_list)"
   ]
  },
  {
   "cell_type": "code",
   "execution_count": 2,
   "metadata": {},
   "outputs": [
    {
     "data": {
      "text/plain": [
       "2136"
      ]
     },
     "execution_count": 2,
     "metadata": {},
     "output_type": "execute_result"
    }
   ],
   "source": [
    "len(dfs.keys())"
   ]
  },
  {
   "cell_type": "markdown",
   "metadata": {},
   "source": [
    "# PUSH CSV TO HUGGINGFACE "
   ]
  },
  {
   "cell_type": "code",
   "execution_count": 16,
   "metadata": {},
   "outputs": [
    {
     "name": "stderr",
     "output_type": "stream",
     "text": [
      "Downloading readme: 100%|██████████| 571/571 [00:00<00:00, 857kB/s]\n",
      "Downloading data: 100%|██████████| 64.5M/64.5M [00:23<00:00, 2.74MB/s]\n",
      "Downloading data files: 100%|██████████| 1/1 [00:23<00:00, 23.57s/it]\n",
      "Extracting data files: 100%|██████████| 1/1 [00:00<00:00, 333.38it/s]\n",
      "Generating train split: 100%|██████████| 1612680/1612680 [00:01<00:00, 1181662.92 examples/s]\n"
     ]
    }
   ],
   "source": [
    "import datasets\n",
    "import pandas as pd\n",
    "\n",
    "\n",
    "dataset = datasets.load_dataset('sehyun66/STOCKPRICE','NASDAQ_3y')\n",
    "data= pd.read_csv('NASDAQ_3y/stock_price_clean-train.csv',index_col=0)\n",
    "data.to_csv('NASDAQ_3y/stock_price_clean-train.csv',index=False)\n",
    "dataset.push_to_hub('sehyun66/STOCKPRICE','NASDAQ_3y')"
   ]
  }
 ],
 "metadata": {
  "kernelspec": {
   "display_name": "tiger",
   "language": "python",
   "name": "python3"
  },
  "language_info": {
   "codemirror_mode": {
    "name": "ipython",
    "version": 3
   },
   "file_extension": ".py",
   "mimetype": "text/x-python",
   "name": "python",
   "nbconvert_exporter": "python",
   "pygments_lexer": "ipython3",
   "version": "3.10.12"
  }
 },
 "nbformat": 4,
 "nbformat_minor": 2
}
