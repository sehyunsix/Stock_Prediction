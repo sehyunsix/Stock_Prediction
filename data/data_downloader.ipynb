{
 "cells": [
  {
   "cell_type": "code",
   "execution_count": 41,
   "metadata": {},
   "outputs": [
    {
     "name": "stdout",
     "output_type": "stream",
     "text": [
      "[*********************100%%**********************]  1 of 1 completed\n"
     ]
    }
   ],
   "source": [
    "\n",
    "from pandas_datareader import data as pdr\n",
    "import yfinance as yfm\n",
    "from tqdm import tqdm\n",
    "yf.pdr_override()\n",
    "\n",
    "ticker_df_list =list(data['Ticker'].unique())\n",
    "price_data={}\n",
    "for ticker in ticker_df_list:\n",
    "    df = yf.download(ticker, interval='1d', period='3y')\n",
    "    price_data[ticker] = df\n",
    "    df.to_csv(f'stockPrice/{ticker}.csv')\n",
    "    break"
   ]
  },
  {
   "cell_type": "code",
   "execution_count": 1,
   "metadata": {},
   "outputs": [
    {
     "name": "stderr",
     "output_type": "stream",
     "text": [
      "100%|██████████| 2743/2743 [00:04<00:00, 561.37it/s]\n"
     ]
    }
   ],
   "source": [
    "\n",
    "import os\n",
    "import pandas as pd\n",
    "from tqdm import tqdm\n",
    "# Set the path to the directory containing the CSV files\n",
    "PATH = '/home/ssu36/tiger/Stock_Prediction/data/stockPrice'\n",
    "\n",
    "# Get the list of CSV files in the directory\n",
    "csv_files = [file for file in os.listdir(PATH) if file.endswith('.csv')]\n",
    "\n",
    "# Initialize an empty dictionary to store the dataframes\n",
    "dfs = {}\n",
    "\n",
    "# Iterate over each CSV file\n",
    "for file in tqdm(csv_files):\n",
    "  # Read the CSV file into a dataframe\n",
    "  df = pd.read_csv(os.path.join(PATH, file))\n",
    "  ticker_name =file.split('.')[0]\n",
    "  df[\"Ticker\"] = ticker_name\n",
    "  # Add the dataframe to the dictionary with the file name as the key\n",
    "  if len(df) == 755:\n",
    "    dfs[ticker_name] = df\n",
    "data = pd.concat(dfs.values(), ignore_index=True)\n",
    "# Print the dictionary of dataframes\n"
   ]
  },
  {
   "cell_type": "code",
   "execution_count": 2,
   "metadata": {},
   "outputs": [
    {
     "data": {
      "text/plain": [
       "2136"
      ]
     },
     "execution_count": 2,
     "metadata": {},
     "output_type": "execute_result"
    }
   ],
   "source": [
    "len(dfs.keys())"
   ]
  },
  {
   "cell_type": "markdown",
   "metadata": {},
   "source": [
    "# PUSH CSV TO HUGGINGFACE "
   ]
  },
  {
   "cell_type": "code",
   "execution_count": 16,
   "metadata": {},
   "outputs": [
    {
     "name": "stderr",
     "output_type": "stream",
     "text": [
      "Downloading readme: 100%|██████████| 571/571 [00:00<00:00, 857kB/s]\n",
      "Downloading data: 100%|██████████| 64.5M/64.5M [00:23<00:00, 2.74MB/s]\n",
      "Downloading data files: 100%|██████████| 1/1 [00:23<00:00, 23.57s/it]\n",
      "Extracting data files: 100%|██████████| 1/1 [00:00<00:00, 333.38it/s]\n",
      "Generating train split: 100%|██████████| 1612680/1612680 [00:01<00:00, 1181662.92 examples/s]\n"
     ]
    }
   ],
   "source": [
    "import datasets\n",
    "import pandas as pd\n",
    "\n",
    "\n",
    "dataset = datasets.load_dataset('sehyun66/STOCKPRICE','NASDAQ_3y')\n",
    "data= pd.read_csv('NASDAQ_3y/stock_price_clean-train.csv',index_col=0)\n",
    "data.to_csv('NASDAQ_3y/stock_price_clean-train.csv',index=False)\n",
    "dataset.push_to_hub('sehyun66/STOCKPRICE','NASDAQ_3y')"
   ]
  }
 ],
 "metadata": {
  "kernelspec": {
   "display_name": "tiger",
   "language": "python",
   "name": "python3"
  },
  "language_info": {
   "codemirror_mode": {
    "name": "ipython",
    "version": 3
   },
   "file_extension": ".py",
   "mimetype": "text/x-python",
   "name": "python",
   "nbconvert_exporter": "python",
   "pygments_lexer": "ipython3",
   "version": "3.10.12"
  }
 },
 "nbformat": 4,
 "nbformat_minor": 2
}
