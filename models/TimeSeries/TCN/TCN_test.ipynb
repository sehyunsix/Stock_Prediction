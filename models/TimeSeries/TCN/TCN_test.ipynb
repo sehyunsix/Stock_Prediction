{
 "cells": [
  {
   "cell_type": "code",
   "execution_count": 61,
   "metadata": {},
   "outputs": [],
   "source": [
    "import torch\n",
    "import torch.nn as nn\n",
    "from torch.nn.utils import weight_norm\n",
    "from torchsummary import summary\n",
    "from tcn import TemporalConvNet"
   ]
  },
  {
   "cell_type": "code",
   "execution_count": 64,
   "metadata": {},
   "outputs": [
    {
     "ename": "SyntaxError",
     "evalue": "invalid syntax (3721577386.py, line 28)",
     "output_type": "error",
     "traceback": [
      "\u001b[0;36m  Cell \u001b[0;32mIn[64], line 28\u001b[0;36m\u001b[0m\n\u001b[0;31m    input_channels = 1\u001b[0m\n\u001b[0m    ^\u001b[0m\n\u001b[0;31mSyntaxError\u001b[0m\u001b[0;31m:\u001b[0m invalid syntax\n"
     ]
    }
   ],
   "source": [
    "parser.add_argument('--batch_size', type=int, default=32, metavar='N',\n",
    "                    help='batch size (default: 32)')\n",
    "parser.add_argument('--cuda', type =bool, default=False,\n",
    "                    help='use CUDA (default: False)')\n",
    "parser.add_argument('--dropout', type=float, default=0.0,\n",
    "                    help='dropout applied to layers (default: 0.0)')\n",
    "parser.add_argument('--clip', type=float, default=-1,\n",
    "                    help='gradient clip, -1 means no clip (default: -1)')\n",
    "parser.add_argument('--epochs', type=int, default=10,\n",
    "                    help='upper epoch limit (default: 10)')\n",
    "parser.add_argument('--ksize', type=int, default=7,\n",
    "                    help='kernel size (default: 7)')\n",
    "parser.add_argument('--levels', type=int, default=8,\n",
    "                    help='# of levels (default: 8)')\n",
    "parser.add_argument('--seq_len', type=int, default=400,\n",
    "                    help='sequence length (default: 400)')\n",
    "parser.add_argument('--log-interval', type=int, default=100, metavar='N',\n",
    "                    help='report interval (default: 100')\n",
    "parser.add_argument('--lr', type=float, default=4e-3,\n",
    "                    help='initial learning rate (default: 4e-3)')\n",
    "parser.add_argument('--optim', type=str, default='Adam',\n",
    "                    help='optimizer to use (default: Adam)')\n",
    "parser.add_argument('--nhid', type=int, default=30,\n",
    "                    help='number of hidden units per layer (default: 30)')\n",
    "parser.add_argument('--seed', type=int, default=1111,\n",
    "\n",
    "args = parser.parse_args()\n",
    "input_channels = 1\n",
    "num_channels =[20]*2\n",
    "kenel_size = 7\n",
    "dropout = 0.25"
   ]
  },
  {
   "cell_type": "code",
   "execution_count": 56,
   "metadata": {},
   "outputs": [],
   "source": [
    "class TCNModel(nn.Module):\n",
    "    def __init__(self, input_channels,num_channels, kernel_size=2, dropout=0.2):\n",
    "        super(TCNModel, self).__init__()\n",
    "        self.tcn = TemporalConvNet(\n",
    "            input_channels, num_channels, kernel_size=kernel_size, dropout=dropout)\n",
    "        self.dropout = nn.Dropout(dropout)\n",
    "        self.decoder = nn.Linear(num_channels[-1], 1)\n",
    "\n",
    "    def forward(self, x):\n",
    "        return self.decoder(self.dropout(self.tcn(x)[:, :, 10]))"
   ]
  },
  {
   "cell_type": "code",
   "execution_count": 59,
   "metadata": {},
   "outputs": [],
   "source": [
    "model = TCNModel( input_channels=20 ,num_channels=[20] * 2, kernel_size=8, dropout=0.25)"
   ]
  },
  {
   "cell_type": "code",
   "execution_count": 60,
   "metadata": {},
   "outputs": [
    {
     "name": "stdout",
     "output_type": "stream",
     "text": [
      "----------------------------------------------------------------\n",
      "        Layer (type)               Output Shape         Param #\n",
      "================================================================\n",
      "            Conv1d-1              [-1, 20, 127]           3,220\n",
      "            Conv1d-2              [-1, 20, 127]           3,220\n",
      "           Chomp1d-3              [-1, 20, 120]               0\n",
      "           Chomp1d-4              [-1, 20, 120]               0\n",
      "              ReLU-5              [-1, 20, 120]               0\n",
      "              ReLU-6              [-1, 20, 120]               0\n",
      "           Dropout-7              [-1, 20, 120]               0\n",
      "           Dropout-8              [-1, 20, 120]               0\n",
      "            Conv1d-9              [-1, 20, 127]           3,220\n",
      "           Conv1d-10              [-1, 20, 127]           3,220\n",
      "          Chomp1d-11              [-1, 20, 120]               0\n",
      "          Chomp1d-12              [-1, 20, 120]               0\n",
      "             ReLU-13              [-1, 20, 120]               0\n",
      "             ReLU-14              [-1, 20, 120]               0\n",
      "          Dropout-15              [-1, 20, 120]               0\n",
      "          Dropout-16              [-1, 20, 120]               0\n",
      "             ReLU-17              [-1, 20, 120]               0\n",
      "    TemporalBlock-18              [-1, 20, 120]               0\n",
      "           Conv1d-19              [-1, 20, 134]           3,220\n",
      "           Conv1d-20              [-1, 20, 134]           3,220\n",
      "          Chomp1d-21              [-1, 20, 120]               0\n",
      "          Chomp1d-22              [-1, 20, 120]               0\n",
      "             ReLU-23              [-1, 20, 120]               0\n",
      "             ReLU-24              [-1, 20, 120]               0\n",
      "          Dropout-25              [-1, 20, 120]               0\n",
      "          Dropout-26              [-1, 20, 120]               0\n",
      "           Conv1d-27              [-1, 20, 134]           3,220\n",
      "           Conv1d-28              [-1, 20, 134]           3,220\n",
      "          Chomp1d-29              [-1, 20, 120]               0\n",
      "          Chomp1d-30              [-1, 20, 120]               0\n",
      "             ReLU-31              [-1, 20, 120]               0\n",
      "             ReLU-32              [-1, 20, 120]               0\n",
      "          Dropout-33              [-1, 20, 120]               0\n",
      "          Dropout-34              [-1, 20, 120]               0\n",
      "             ReLU-35              [-1, 20, 120]               0\n",
      "    TemporalBlock-36              [-1, 20, 120]               0\n",
      "  TemporalConvNet-37              [-1, 20, 120]               0\n",
      "          Dropout-38                   [-1, 20]               0\n",
      "           Linear-39                    [-1, 1]              21\n",
      "================================================================\n",
      "Total params: 25,781\n",
      "Trainable params: 25,781\n",
      "Non-trainable params: 0\n",
      "----------------------------------------------------------------\n",
      "Input size (MB): 0.01\n",
      "Forward/backward pass size (MB): 0.69\n",
      "Params size (MB): 0.10\n",
      "Estimated Total Size (MB): 0.80\n",
      "----------------------------------------------------------------\n"
     ]
    }
   ],
   "source": [
    "summary(model,(20,120))"
   ]
  },
  {
   "cell_type": "code",
   "execution_count": null,
   "metadata": {},
   "outputs": [],
   "source": []
  }
 ],
 "metadata": {
  "kernelspec": {
   "display_name": "Python 3",
   "language": "python",
   "name": "python3"
  },
  "language_info": {
   "codemirror_mode": {
    "name": "ipython",
    "version": 3
   },
   "file_extension": ".py",
   "mimetype": "text/x-python",
   "name": "python",
   "nbconvert_exporter": "python",
   "pygments_lexer": "ipython3",
   "version": "3.9.17"
  }
 },
 "nbformat": 4,
 "nbformat_minor": 2
}
